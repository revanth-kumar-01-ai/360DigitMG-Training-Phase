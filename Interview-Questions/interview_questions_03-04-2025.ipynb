{
 "cells": [
  {
   "cell_type": "markdown",
   "id": "77c4da09",
   "metadata": {
    "vscode": {
     "languageId": "plaintext"
    }
   },
   "source": [
    "# Interview Question \n",
    "03-04-2025"
   ]
  },
  {
   "cell_type": "code",
   "execution_count": 81,
   "id": "492e6f69",
   "metadata": {},
   "outputs": [],
   "source": [
    "# import necessary libraries \n",
    "\n",
    "import pandas as pd \n",
    "import matplotlib.pyplot as plt \n",
    "import seaborn as sns \n",
    "import numpy as np \n",
    "\n",
    "import warnings \n",
    "\n",
    "warnings.filterwarnings('ignore')"
   ]
  },
  {
   "cell_type": "markdown",
   "id": "50296afc",
   "metadata": {
    "vscode": {
     "languageId": "plaintext"
    }
   },
   "source": [
    "**1. Write Python code to calculate and visualize the distribution of a numerical variable in a dataset. Utilize appropriate statistical measures and graphical representations (histogram, kernel density plot) to explore the data's central tendency and spread.**"
   ]
  },
  {
   "cell_type": "code",
   "execution_count": 13,
   "id": "f2aa2921",
   "metadata": {},
   "outputs": [],
   "source": [
    "np.random.seed(42)\n",
    "col1 = np.random.normal(loc = 70, scale = 10, size = 100)\n",
    "\n",
    "df = pd.DataFrame({\n",
    "    \"Score\":col1\n",
    "})"
   ]
  },
  {
   "cell_type": "code",
   "execution_count": 15,
   "id": "871aded8",
   "metadata": {},
   "outputs": [
    {
     "data": {
      "application/vnd.microsoft.datawrangler.viewer.v0+json": {
       "columns": [
        {
         "name": "index",
         "rawType": "int64",
         "type": "integer"
        },
        {
         "name": "Score",
         "rawType": "float64",
         "type": "float"
        }
       ],
       "conversionMethod": "pd.DataFrame",
       "ref": "b2c90434-3473-4937-9473-b13597b33d29",
       "rows": [
        [
         "0",
         "74.96714153011233"
        ],
        [
         "1",
         "68.61735698828815"
        ],
        [
         "2",
         "76.47688538100692"
        ],
        [
         "3",
         "85.23029856408026"
        ],
        [
         "4",
         "67.65846625276664"
        ],
        [
         "5",
         "67.6586304305082"
        ],
        [
         "6",
         "85.79212815507391"
        ],
        [
         "7",
         "77.67434729152909"
        ],
        [
         "8",
         "65.30525614065049"
        ],
        [
         "9",
         "75.42560043585965"
        ],
        [
         "10",
         "65.36582307187538"
        ],
        [
         "11",
         "65.34270246429743"
        ],
        [
         "12",
         "72.41962271566034"
        ],
        [
         "13",
         "50.86719755342202"
        ],
        [
         "14",
         "52.75082167486967"
        ],
        [
         "15",
         "64.37712470759027"
        ],
        [
         "16",
         "59.87168879665576"
        ],
        [
         "17",
         "73.14247332595274"
        ],
        [
         "18",
         "60.91975924478789"
        ],
        [
         "19",
         "55.87696298664709"
        ],
        [
         "20",
         "84.65648768921554"
        ],
        [
         "21",
         "67.74223699513465"
        ],
        [
         "22",
         "70.67528204687923"
        ],
        [
         "23",
         "55.75251813786544"
        ],
        [
         "24",
         "64.55617275474818"
        ],
        [
         "25",
         "71.10922589709867"
        ],
        [
         "26",
         "58.490064225776976"
        ],
        [
         "27",
         "73.75698018345672"
        ],
        [
         "28",
         "63.99361310081195"
        ],
        [
         "29",
         "67.08306250206724"
        ],
        [
         "30",
         "63.98293387770603"
        ],
        [
         "31",
         "88.52278184508938"
        ],
        [
         "32",
         "69.86502775262066"
        ],
        [
         "33",
         "59.422890710440996"
        ],
        [
         "34",
         "78.22544912103189"
        ],
        [
         "35",
         "57.791563500289776"
        ],
        [
         "36",
         "72.08863595004756"
        ],
        [
         "37",
         "50.403298761202244"
        ],
        [
         "38",
         "56.71813951101569"
        ],
        [
         "39",
         "71.96861235869123"
        ],
        [
         "40",
         "77.3846657999541"
        ],
        [
         "41",
         "71.7136828118997"
        ],
        [
         "42",
         "68.8435171761176"
        ],
        [
         "43",
         "66.98896304410711"
        ],
        [
         "44",
         "55.214780096325725"
        ],
        [
         "45",
         "62.801557916052914"
        ],
        [
         "46",
         "65.39361229040213"
        ],
        [
         "47",
         "80.57122226218915"
        ],
        [
         "48",
         "73.43618289568461"
        ],
        [
         "49",
         "52.36959844637266"
        ]
       ],
       "shape": {
        "columns": 1,
        "rows": 100
       }
      },
      "text/html": [
       "<div>\n",
       "<style scoped>\n",
       "    .dataframe tbody tr th:only-of-type {\n",
       "        vertical-align: middle;\n",
       "    }\n",
       "\n",
       "    .dataframe tbody tr th {\n",
       "        vertical-align: top;\n",
       "    }\n",
       "\n",
       "    .dataframe thead th {\n",
       "        text-align: right;\n",
       "    }\n",
       "</style>\n",
       "<table border=\"1\" class=\"dataframe\">\n",
       "  <thead>\n",
       "    <tr style=\"text-align: right;\">\n",
       "      <th></th>\n",
       "      <th>Score</th>\n",
       "    </tr>\n",
       "  </thead>\n",
       "  <tbody>\n",
       "    <tr>\n",
       "      <th>0</th>\n",
       "      <td>74.967142</td>\n",
       "    </tr>\n",
       "    <tr>\n",
       "      <th>1</th>\n",
       "      <td>68.617357</td>\n",
       "    </tr>\n",
       "    <tr>\n",
       "      <th>2</th>\n",
       "      <td>76.476885</td>\n",
       "    </tr>\n",
       "    <tr>\n",
       "      <th>3</th>\n",
       "      <td>85.230299</td>\n",
       "    </tr>\n",
       "    <tr>\n",
       "      <th>4</th>\n",
       "      <td>67.658466</td>\n",
       "    </tr>\n",
       "    <tr>\n",
       "      <th>...</th>\n",
       "      <td>...</td>\n",
       "    </tr>\n",
       "    <tr>\n",
       "      <th>95</th>\n",
       "      <td>55.364851</td>\n",
       "    </tr>\n",
       "    <tr>\n",
       "      <th>96</th>\n",
       "      <td>72.961203</td>\n",
       "    </tr>\n",
       "    <tr>\n",
       "      <th>97</th>\n",
       "      <td>72.610553</td>\n",
       "    </tr>\n",
       "    <tr>\n",
       "      <th>98</th>\n",
       "      <td>70.051135</td>\n",
       "    </tr>\n",
       "    <tr>\n",
       "      <th>99</th>\n",
       "      <td>67.654129</td>\n",
       "    </tr>\n",
       "  </tbody>\n",
       "</table>\n",
       "<p>100 rows × 1 columns</p>\n",
       "</div>"
      ],
      "text/plain": [
       "        Score\n",
       "0   74.967142\n",
       "1   68.617357\n",
       "2   76.476885\n",
       "3   85.230299\n",
       "4   67.658466\n",
       "..        ...\n",
       "95  55.364851\n",
       "96  72.961203\n",
       "97  72.610553\n",
       "98  70.051135\n",
       "99  67.654129\n",
       "\n",
       "[100 rows x 1 columns]"
      ]
     },
     "execution_count": 15,
     "metadata": {},
     "output_type": "execute_result"
    }
   ],
   "source": [
    "df"
   ]
  },
  {
   "cell_type": "code",
   "execution_count": 17,
   "id": "f2efa368",
   "metadata": {},
   "outputs": [
    {
     "data": {
      "image/png": "[encoded data removed]",
      "text/plain": [
       "<Figure size 640x480 with 1 Axes>"
      ]
     },
     "metadata": {},
     "output_type": "display_data"
    }
   ],
   "source": [
    "sns.histplot(df['Score'])\n",
    "plt.show()"
   ]
  },
  {
   "cell_type": "code",
   "execution_count": 18,
   "id": "a1d376e5",
   "metadata": {},
   "outputs": [
    {
     "data": {
      "image/png": "[encoded data removed]",
      "text/plain": [
       "<Figure size 640x480 with 1 Axes>"
      ]
     },
     "metadata": {},
     "output_type": "display_data"
    }
   ],
   "source": [
    "sns.kdeplot(df['Score'])\n",
    "plt.show()"
   ]
  },
  {
   "cell_type": "code",
   "execution_count": 20,
   "id": "47dbd547",
   "metadata": {},
   "outputs": [
    {
     "name": "stdout",
     "output_type": "stream",
     "text": [
      "mean 68.96153482605907\n",
      "median 68.73043708220288\n",
      "standard deviation 9.081684280078008\n"
     ]
    }
   ],
   "source": [
    "print(\"mean\", df['Score'].mean())\n",
    "print(\"median\", df['Score'].median())\n",
    "print(\"standard deviation\", df['Score'].std())"
   ]
  },
  {
   "cell_type": "markdown",
   "id": "830dfd18",
   "metadata": {
    "vscode": {
     "languageId": "plaintext"
    }
   },
   "source": [
    "**2. Develop Python code to compute and visualize the correlation matrix for a dataset using Pandas and Seaborn. Include annotations and color mapping to highlight strong correlations. Additionally, provide insights into the potential relationships between variables.**"
   ]
  },
  {
   "cell_type": "code",
   "execution_count": 21,
   "id": "921f68ab",
   "metadata": {},
   "outputs": [],
   "source": [
    "np.random.seed(42)\n",
    "col1 = np.random.normal(loc = 70, scale = 10, size = 100)\n",
    "col2 = np.random.normal(loc = 10, scale = 90, size = 100)\n",
    "\n",
    "df = pd.DataFrame({\n",
    "    \"Column one\":col1,\n",
    "    \"Column two\":col2\n",
    "})"
   ]
  },
  {
   "cell_type": "code",
   "execution_count": 24,
   "id": "3bdadd2e",
   "metadata": {},
   "outputs": [
    {
     "name": "stdout",
     "output_type": "stream",
     "text": [
      "            Column one  Column two\n",
      "Column one    1.000000   -0.136422\n",
      "Column two   -0.136422    1.000000\n"
     ]
    }
   ],
   "source": [
    "print(df.corr())"
   ]
  },
  {
   "cell_type": "code",
   "execution_count": 28,
   "id": "8017d01e",
   "metadata": {},
   "outputs": [
    {
     "data": {
      "image/png": "[encoded data removed]",
      "text/plain": [
       "<Figure size 640x480 with 2 Axes>"
      ]
     },
     "metadata": {},
     "output_type": "display_data"
    }
   ],
   "source": [
    "sns.heatmap(df.corr(), annot=True)\n",
    "plt.show()"
   ]
  },
  {
   "cell_type": "markdown",
   "id": "a0fc668f",
   "metadata": {},
   "source": [
    "**3. Create Python code to explore and visualize categorical variables in a dataset. Utilize bar charts, count plots, or other suitable visualizations to understand the distribution of different categories and their impact on the analysis.**"
   ]
  },
  {
   "cell_type": "code",
   "execution_count": 29,
   "id": "41afa4e3",
   "metadata": {},
   "outputs": [],
   "source": [
    "np.random.seed(42)\n",
    "cat_col = np.random.randint(1, 11, 200)\n",
    "num_col = np.random.rand(200)\n",
    "\n",
    "df = pd.DataFrame({\n",
    "    'categorical':cat_col, \n",
    "    'numerical':num_col\n",
    "})"
   ]
  },
  {
   "cell_type": "code",
   "execution_count": 31,
   "id": "b8197be9",
   "metadata": {},
   "outputs": [
    {
     "data": {
      "image/png": "[encoded data removed]",
      "text/plain": [
       "<Figure size 640x480 with 1 Axes>"
      ]
     },
     "metadata": {},
     "output_type": "display_data"
    }
   ],
   "source": [
    "sns.barplot(data = df, x = 'categorical', y = 'numerical')\n",
    "plt.show()"
   ]
  },
  {
   "cell_type": "markdown",
   "id": "1c610aff",
   "metadata": {},
   "source": [
    "**4. Implement Python code to identify and handle outliers in a dataset using statistical methods or visualization techniques. Demonstrate how to filter or transform the data to mitigate the impact of outliers on exploratory data analysis.**"
   ]
  },
  {
   "cell_type": "code",
   "execution_count": 64,
   "id": "8885ebee",
   "metadata": {},
   "outputs": [],
   "source": [
    "np.random.seed(42)\n",
    "\n",
    "num_col = np.random.rand(200)\n",
    "\n",
    "outliers_indices = np.random.choice(100, 5, replace = False)\n",
    "num_col[outliers_indices] = num_col[outliers_indices] * 5\n",
    "\n",
    "df = pd.DataFrame({\n",
    "    'num_col':num_col\n",
    "})\n"
   ]
  },
  {
   "cell_type": "code",
   "execution_count": 65,
   "id": "39465ff6",
   "metadata": {},
   "outputs": [
    {
     "data": {
      "image/png": "[encoded data removed]",
      "text/plain": [
       "<Figure size 640x480 with 1 Axes>"
      ]
     },
     "metadata": {},
     "output_type": "display_data"
    }
   ],
   "source": [
    "sns.boxplot(df.num_col)\n",
    "plt.show()"
   ]
  },
  {
   "cell_type": "markdown",
   "id": "7198743e",
   "metadata": {},
   "source": [
    "**5.   Remove duplicates from a pandas DataFrame.**"
   ]
  },
  {
   "cell_type": "code",
   "execution_count": 72,
   "id": "faab20d7",
   "metadata": {},
   "outputs": [],
   "source": [
    "np.random.seed(42)\n",
    "\n",
    "data = np.random.choice(10, 10)\n",
    "\n",
    "df = pd.DataFrame(data, columns=['num'])"
   ]
  },
  {
   "cell_type": "code",
   "execution_count": 76,
   "id": "a7ef67c7",
   "metadata": {},
   "outputs": [
    {
     "data": {
      "text/plain": [
       "4"
      ]
     },
     "execution_count": 76,
     "metadata": {},
     "output_type": "execute_result"
    }
   ],
   "source": [
    "df.duplicated().sum()"
   ]
  },
  {
   "cell_type": "code",
   "execution_count": 79,
   "id": "95e9fed9",
   "metadata": {},
   "outputs": [],
   "source": [
    "df.drop_duplicates(inplace=True)"
   ]
  },
  {
   "cell_type": "code",
   "execution_count": 80,
   "id": "12cb6f82",
   "metadata": {},
   "outputs": [
    {
     "data": {
      "application/vnd.microsoft.datawrangler.viewer.v0+json": {
       "columns": [
        {
         "name": "index",
         "rawType": "int64",
         "type": "integer"
        },
        {
         "name": "num",
         "rawType": "int32",
         "type": "integer"
        }
       ],
       "conversionMethod": "pd.DataFrame",
       "ref": "5d32ae5f-0d61-402c-917c-d6a1f5e166dc",
       "rows": [
        [
         "0",
         "6"
        ],
        [
         "1",
         "3"
        ],
        [
         "2",
         "7"
        ],
        [
         "3",
         "4"
        ],
        [
         "5",
         "9"
        ],
        [
         "6",
         "2"
        ]
       ],
       "shape": {
        "columns": 1,
        "rows": 6
       }
      },
      "text/html": [
       "<div>\n",
       "<style scoped>\n",
       "    .dataframe tbody tr th:only-of-type {\n",
       "        vertical-align: middle;\n",
       "    }\n",
       "\n",
       "    .dataframe tbody tr th {\n",
       "        vertical-align: top;\n",
       "    }\n",
       "\n",
       "    .dataframe thead th {\n",
       "        text-align: right;\n",
       "    }\n",
       "</style>\n",
       "<table border=\"1\" class=\"dataframe\">\n",
       "  <thead>\n",
       "    <tr style=\"text-align: right;\">\n",
       "      <th></th>\n",
       "      <th>num</th>\n",
       "    </tr>\n",
       "  </thead>\n",
       "  <tbody>\n",
       "    <tr>\n",
       "      <th>0</th>\n",
       "      <td>6</td>\n",
       "    </tr>\n",
       "    <tr>\n",
       "      <th>1</th>\n",
       "      <td>3</td>\n",
       "    </tr>\n",
       "    <tr>\n",
       "      <th>2</th>\n",
       "      <td>7</td>\n",
       "    </tr>\n",
       "    <tr>\n",
       "      <th>3</th>\n",
       "      <td>4</td>\n",
       "    </tr>\n",
       "    <tr>\n",
       "      <th>5</th>\n",
       "      <td>9</td>\n",
       "    </tr>\n",
       "    <tr>\n",
       "      <th>6</th>\n",
       "      <td>2</td>\n",
       "    </tr>\n",
       "  </tbody>\n",
       "</table>\n",
       "</div>"
      ],
      "text/plain": [
       "   num\n",
       "0    6\n",
       "1    3\n",
       "2    7\n",
       "3    4\n",
       "5    9\n",
       "6    2"
      ]
     },
     "execution_count": 80,
     "metadata": {},
     "output_type": "execute_result"
    }
   ],
   "source": [
    "df"
   ]
  },
  {
   "cell_type": "code",
   "execution_count": null,
   "id": "7d46c6bc",
   "metadata": {},
   "outputs": [],
   "source": []
  }
 ],
 "metadata": {
  "kernelspec": {
   "display_name": "AIenv",
   "language": "python",
   "name": "python3"
  },
  "language_info": {
   "codemirror_mode": {
    "name": "ipython",
    "version": 3
   },
   "file_extension": ".py",
   "mimetype": "text/x-python",
   "name": "python",
   "nbconvert_exporter": "python",
   "pygments_lexer": "ipython3",
   "version": "3.10.16"
  }
 },
 "nbformat": 4,
 "nbformat_minor": 5
}
