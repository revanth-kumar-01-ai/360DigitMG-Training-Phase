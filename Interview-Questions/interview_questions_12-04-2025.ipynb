{
 "cells": [
  {
   "cell_type": "markdown",
   "id": "1d55b71a",
   "metadata": {},
   "source": [
    "# Interview Question\n",
    "\n",
    "**12-04-2025**"
   ]
  },
  {
   "cell_type": "code",
   "execution_count": 34,
   "id": "0d49eef2",
   "metadata": {},
   "outputs": [
    {
     "name": "stdout",
     "output_type": "stream",
     "text": [
      "integer\n"
     ]
    }
   ],
   "source": [
    "# 1. Given an integer, perform conditional checks. \n",
    "\n",
    "num = 12 \n",
    "if isinstance(num, int):\n",
    "    print(\"integer\")\n",
    "else:\n",
    "    print(\"is not integer\")"
   ]
  },
  {
   "cell_type": "code",
   "execution_count": null,
   "id": "498e00cb",
   "metadata": {},
   "outputs": [
    {
     "data": {
      "text/plain": [
       "[1, 2, 3, 4, 5]"
      ]
     },
     "execution_count": 36,
     "metadata": {},
     "output_type": "execute_result"
    }
   ],
   "source": [
    "# 2. Create a list based on certain conditions using list comprehensions.\n",
    "\n",
    "strValue = \"12345\"\n",
    "\n",
    "[int(val) for val in strValue] # list comprehensions."
   ]
  },
  {
   "cell_type": "code",
   "execution_count": null,
   "id": "23a0cca8",
   "metadata": {},
   "outputs": [
    {
     "data": {
      "text/plain": [
       "89.4"
      ]
     },
     "execution_count": 54,
     "metadata": {},
     "output_type": "execute_result"
    }
   ],
   "source": [
    "# 3. Calculate the average of marks for a specific student from a dictionary.\n",
    "\n",
    "student = {\n",
    "    \"sam\":{\n",
    "    \"Tamil\":90, \n",
    "    \"English\":80, \n",
    "    \"Maths\":98, \n",
    "    \"science\":80,\n",
    "    \"social\":99\n",
    "    }, \n",
    "    \"smith\":{\n",
    "    \"Tamil\":90, \n",
    "    \"English\":80, \n",
    "    \"Maths\":98, \n",
    "    \"science\":80,\n",
    "    \"social\":99\n",
    "    }, \n",
    "    \"wick\":{\n",
    "    \"Tamil\":90, \n",
    "    \"English\":80, \n",
    "    \"Maths\":98, \n",
    "    \"science\":80,\n",
    "    \"social\":99\n",
    "    },     \n",
    "}\n",
    "\n",
    "studentName = \"sam\"\n",
    "\n",
    "average = 0\n",
    "if studentName in student:\n",
    "    for val in student[studentName].values():\n",
    "        average += val\n",
    "    average = average/len(student[studentName])\n",
    "else:\n",
    "    print(\"No Record\")\n",
    "\n",
    "average"
   ]
  },
  {
   "cell_type": "code",
   "execution_count": 83,
   "id": "4a3c1fcf",
   "metadata": {},
   "outputs": [
    {
     "data": {
      "text/plain": [
       "1"
      ]
     },
     "execution_count": 83,
     "metadata": {},
     "output_type": "execute_result"
    }
   ],
   "source": [
    "# 4. Find the second lowest grade and students with that grade.\n",
    "\n",
    "grade = [44, 0, 1, 24, 65]\n",
    "\n",
    "secondLow = low = float('inf')\n",
    "\n",
    "# find the min \n",
    "for x in grade:\n",
    "    if x < low:\n",
    "        low = x \n",
    "\n",
    "\n",
    "for x in grade:\n",
    "    if x < secondLow and x != low:\n",
    "        secondLow = x \n",
    "\n",
    "secondLow"
   ]
  },
  {
   "cell_type": "code",
   "execution_count": null,
   "id": "cb074777",
   "metadata": {},
   "outputs": [],
   "source": []
  },
  {
   "cell_type": "code",
   "execution_count": null,
   "id": "0c13fdfa",
   "metadata": {},
   "outputs": [],
   "source": []
  },
  {
   "cell_type": "code",
   "execution_count": null,
   "id": "04e7502c",
   "metadata": {},
   "outputs": [],
   "source": []
  }
 ],
 "metadata": {
  "kernelspec": {
   "display_name": "AIenv",
   "language": "python",
   "name": "python3"
  },
  "language_info": {
   "codemirror_mode": {
    "name": "ipython",
    "version": 3
   },
   "file_extension": ".py",
   "mimetype": "text/x-python",
   "name": "python",
   "nbconvert_exporter": "python",
   "pygments_lexer": "ipython3",
   "version": "3.10.16"
  }
 },
 "nbformat": 4,
 "nbformat_minor": 5
}
