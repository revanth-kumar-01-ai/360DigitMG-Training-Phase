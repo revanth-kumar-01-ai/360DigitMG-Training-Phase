{
 "cells": [
  {
   "cell_type": "markdown",
   "id": "a098bc69",
   "metadata": {},
   "source": [
    "# Interview Questions\n",
    "\n",
    "**08-04-2025**"
   ]
  },
  {
   "cell_type": "markdown",
   "id": "42f49056",
   "metadata": {},
   "source": [
    "# SQL "
   ]
  },
  {
   "cell_type": "markdown",
   "id": "0aa24675",
   "metadata": {},
   "source": [
    "**1)\tAre multiple foreign keys possible for a table, Explain with an example?**\n",
    "\n",
    " A table can have multiple foreign keys. Each foreign key links to a different parent table to maintain data integrity."
   ]
  },
  {
   "cell_type": "markdown",
   "id": "98c33c8e",
   "metadata": {},
   "source": [
    "**2.\tWhat does SQL's TRUNCATE statement accomplish?**\n",
    "\n",
    "**TRUNCATE** removes **all rows** from a table **quickly** ❌ without logging each row delete.  \n",
    "\n",
    "👉 It resets auto-increment and **can’t be rolled back** in some databases.\n",
    "\n",
    "🧠 Use it when you want a **clean table**, but keep the structure."
   ]
  },
  {
   "cell_type": "markdown",
   "id": "4f2bba64",
   "metadata": {},
   "source": [
    "**3)\tWhat is the difference between a database and a table in SQL?**\n",
    "\n",
    "\n",
    "- **Database** = 🗂️ Container that stores all data (tables, views, procedures).\n",
    "- **Table** = 📋 Structured data inside a database with **rows & columns**.  \n",
    "\n",
    "Think:  \n",
    "**Database** = School 🏫  \n",
    "**Table** = Classes 📚 inside the school."
   ]
  },
  {
   "cell_type": "markdown",
   "id": "9a2f5a88",
   "metadata": {},
   "source": [
    "**4)\tWhat is the purpose of the ENUM data type in SQL?**\n",
    "\n",
    "✅ **ENUM** is used to store a column with **predefined values only**.\n",
    "\n",
    "🧠 Example:  \n",
    "```sql\n",
    "CREATE TABLE student (\n",
    "   name VARCHAR(50),\n",
    "   gender ENUM('Male', 'Female', 'Other')\n",
    ");\n",
    "```\n",
    "\n",
    "🎯 Purpose: It helps to **limit values** and **save space** 🔐📉  \n",
    "Only 'Male', 'Female', or 'Other' can be inserted.\n",
    "\n",
    "Cool and safe choice bro 😎🔥"
   ]
  },
  {
   "cell_type": "markdown",
   "id": "37669775",
   "metadata": {},
   "source": [
    "**5)\tExplain the concept of index fragmentation and its impact on database performance.**\n",
    "\n",
    "**1) Index Fragmentation** 📉\n",
    "\n",
    "Index fragmentation happens when data in the index is **not stored in order** on the disk. It mainly happens after **inserts, updates, or deletes**.\n",
    "\n",
    "### 🔥 Impact on performance:\n",
    "- Slower **read** operations 📚\n",
    "- More **I/O** needed to fetch data 💾\n",
    "- Bad performance in **range queries** 🚫\n",
    "\n",
    "### 💡 Fix?\n",
    "Use `REBUILD` or `REORGANIZE` index to remove fragmentation 🔧\n",
    "\n",
    "Let me know if you want an example query bro! 😎"
   ]
  },
  {
   "cell_type": "markdown",
   "id": "232f4345",
   "metadata": {},
   "source": [
    "**6)\tWrite a query for describing the data to get the four moments of business decision.**\n",
    "\n",
    "```sql\n",
    "SELECT \n",
    "    AVG(amount) AS Mean,                            -- 📌 1st moment: Central Tendency\n",
    "    VAR_SAMP(amount) AS Variance,                   -- 📌 2nd moment: Dispersion\n",
    "    (AVG(POWER(amount - AVG(amount), 3)) /          -- 📌 3rd moment: Skewness\n",
    "        POWER(STDDEV_SAMP(amount), 3)) AS Skewness,\n",
    "    (AVG(POWER(amount - AVG(amount), 4)) /          -- 📌 4th moment: Kurtosis\n",
    "        POWER(STDDEV_SAMP(amount), 4)) AS Kurtosis\n",
    "FROM sales;\n",
    "```\n",
    "\n",
    "✅ **Moments Meaning:**\n",
    "1. **Mean** – Avg value\n",
    "2. **Variance** – Spread of data\n",
    "3. **Skewness** – Shape/symmetry\n",
    "4. **Kurtosis** – Peakedness/flatness\n"
   ]
  },
  {
   "cell_type": "markdown",
   "id": "43a8dfdb",
   "metadata": {},
   "source": [
    "# Power Bi"
   ]
  },
  {
   "cell_type": "markdown",
   "id": "c7344c48",
   "metadata": {},
   "source": [
    "**1)\tExplain the concept of calculated measures in Power BI?**\n",
    "\n",
    " Calculated Measures in Power BI are values created using DAX (Data Analysis Expressions) to perform calculations like SUM, AVERAGE, COUNT"
   ]
  },
  {
   "cell_type": "markdown",
   "id": "f0bba796",
   "metadata": {},
   "source": [
    "**2)\tWhat is the difference between calculated columns and calculated measures in Power BI?**\n",
    "\n",
    "  Calculated columns work row by row in a table, while calculated measures give summary values like totals or averages in visuals. Columns are stored in the table, measures are calculated only when needed. 📊✅"
   ]
  },
  {
   "cell_type": "markdown",
   "id": "c7105dd2",
   "metadata": {},
   "source": [
    "**3)\tExplain the concept of data modelling in Power BI?**\n",
    "\n",
    "Data modelling in Power BI means connecting tables using relationships (like primary & foreign keys) to create a clean structure. It helps in analyzing and visualizing data efficiently using DAX. 📈🔗"
   ]
  },
  {
   "cell_type": "markdown",
   "id": "7b3bd1b1",
   "metadata": {},
   "source": [
    "**4)\tHow can you implement row-level security in Power BI?**\n",
    "\n",
    "**Row-level security (RLS)** in Power BI is used to restrict data for different users.\n",
    "\n",
    "✅ Steps:  \n",
    "1. Go to **Model View**  \n",
    "2. Click **Manage Roles**  \n",
    "3. Create a role with **DAX filter** (like `[Region] = \"South\"`)  \n",
    "4. Assign that role to users in **Power BI Service**\n",
    "\n",
    "Now users see **only their data**! 🔐📊"
   ]
  },
  {
   "cell_type": "markdown",
   "id": "8a5c7f3c",
   "metadata": {},
   "source": [
    "**5)\tHow can you optimise the performance of Power BI reports and dashboards?**\n",
    "\n",
    "✅ **Tips to optimize Power BI reports**:\n",
    "\n",
    "1. Use **Import mode** instead of DirectQuery 🧠  \n",
    "2. Remove **unused columns & rows** 🧹  \n",
    "3. Use **star schema** for data modeling ⭐  \n",
    "4. Create **measures** instead of calculated columns 📏  \n",
    "5. Enable **row-level filters early** for faster queries 🎯  \n",
    "6. Avoid complex visuals or too many visuals 🧩  \n",
    "7. Use **summary tables** for big datasets 📉\n",
    "\n",
    "Speed up, shine bright! 🚀✨"
   ]
  },
  {
   "cell_type": "markdown",
   "id": "930537be",
   "metadata": {},
   "source": []
  }
 ],
 "metadata": {
  "language_info": {
   "name": "python"
  }
 },
 "nbformat": 4,
 "nbformat_minor": 5
}
