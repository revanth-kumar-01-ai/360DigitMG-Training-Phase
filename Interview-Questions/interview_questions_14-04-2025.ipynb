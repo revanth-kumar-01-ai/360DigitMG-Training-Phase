{
 "cells": [
  {
   "cell_type": "markdown",
   "id": "0e107999",
   "metadata": {},
   "source": [
    "# Interview Question\n",
    "\n",
    "**14-04-2025**"
   ]
  },
  {
   "cell_type": "code",
   "execution_count": 5,
   "id": "9fd49817",
   "metadata": {},
   "outputs": [
    {
     "name": "stdout",
     "output_type": "stream",
     "text": [
      "1\n",
      "1\n",
      "2\n",
      "3\n",
      "5\n",
      "8\n",
      "13\n",
      "21\n",
      "34\n",
      "55\n"
     ]
    }
   ],
   "source": [
    "# Write a Python function to generate the first n numbers in the Fibonacci sequence.\n",
    "\n",
    "a = 0\n",
    "b = 1\n",
    "for x in range(10):\n",
    "    a, b = b+a, a\n",
    "    print(a)\n"
   ]
  },
  {
   "cell_type": "code",
   "execution_count": 6,
   "id": "2ca0ca1c",
   "metadata": {},
   "outputs": [
    {
     "name": "stdout",
     "output_type": "stream",
     "text": [
      "Palindrome\n"
     ]
    }
   ],
   "source": [
    "# Implement a function to check if a given string is a palindrome in Python.\n",
    "\n",
    "strValue = \"aba\"\n",
    "\n",
    "if strValue == strValue[::-1]:\n",
    "    print(\"Palindrome\")\n",
    "else:\n",
    "    print(\"Not Palindrome\")"
   ]
  },
  {
   "cell_type": "code",
   "execution_count": 7,
   "id": "7a71a722",
   "metadata": {},
   "outputs": [
    {
     "name": "stdout",
     "output_type": "stream",
     "text": [
      "120\n"
     ]
    }
   ],
   "source": [
    "# Create a Python function to calculate the factorial of a given non-negative integer. \n",
    "\n",
    "res = 1\n",
    "for x in range(1, 5+1):\n",
    "    res *= x\n",
    "\n",
    "print(res)"
   ]
  },
  {
   "cell_type": "code",
   "execution_count": 9,
   "id": "831b30d7",
   "metadata": {},
   "outputs": [
    {
     "data": {
      "text/plain": [
       "[4, 6, 8]"
      ]
     },
     "execution_count": 9,
     "metadata": {},
     "output_type": "execute_result"
    }
   ],
   "source": [
    "# Write a Python program that takes a list of numbers as input and returns a new list containing only the even numbers. \n",
    "\n",
    "arr = [1, 3, 4, 5, 6, 8]\n",
    "\n",
    "[x for x in arr if x % 2 == 0]"
   ]
  },
  {
   "cell_type": "code",
   "execution_count": 26,
   "id": "1102544b",
   "metadata": {},
   "outputs": [
    {
     "data": {
      "text/plain": [
       "{'hello': 2, 'world': 2, 'python': 1}"
      ]
     },
     "execution_count": 26,
     "metadata": {},
     "output_type": "execute_result"
    }
   ],
   "source": [
    "# Develop a Python function that takes a string as input and returns a dictionary with word frequencies (excluding punctuation and case-insensitive). \n",
    "\n",
    "import string\n",
    "\n",
    "data = \"Hello world! Hello, Python world.\"\n",
    "\n",
    "cleaned_data = data.translate(str.maketrans('', '', string.punctuation)).lower().split()\n",
    "\n",
    "wordFreq = dict()\n",
    "\n",
    "for word in cleaned_data:\n",
    "    if word in wordFreq:\n",
    "        wordFreq[word] = wordFreq[word] + 1\n",
    "    else:\n",
    "        wordFreq[word] = 1\n",
    "\n",
    "wordFreq"
   ]
  },
  {
   "cell_type": "code",
   "execution_count": null,
   "id": "d7edf30f",
   "metadata": {},
   "outputs": [],
   "source": []
  },
  {
   "cell_type": "code",
   "execution_count": null,
   "id": "52fb6576",
   "metadata": {},
   "outputs": [],
   "source": []
  },
  {
   "cell_type": "code",
   "execution_count": null,
   "id": "038a2315",
   "metadata": {},
   "outputs": [],
   "source": []
  }
 ],
 "metadata": {
  "kernelspec": {
   "display_name": "AIenv",
   "language": "python",
   "name": "python3"
  },
  "language_info": {
   "codemirror_mode": {
    "name": "ipython",
    "version": 3
   },
   "file_extension": ".py",
   "mimetype": "text/x-python",
   "name": "python",
   "nbconvert_exporter": "python",
   "pygments_lexer": "ipython3",
   "version": "3.10.16"
  }
 },
 "nbformat": 4,
 "nbformat_minor": 5
}
