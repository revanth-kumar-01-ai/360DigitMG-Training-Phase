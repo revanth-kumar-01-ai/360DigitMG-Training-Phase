{
 "cells": [
  {
   "cell_type": "code",
   "execution_count": 7,
   "id": "22d8bdbc",
   "metadata": {},
   "outputs": [
    {
     "data": {
      "text/plain": [
       "76"
      ]
     },
     "execution_count": 7,
     "metadata": {},
     "output_type": "execute_result"
    }
   ],
   "source": [
    "# Find the Maximum Number\n",
    "\n",
    "arr = [10, 25, 5, 76, 30]\n",
    "\n",
    "maxNum = -float('inf')\n",
    "\n",
    "for val in arr:\n",
    "    if maxNum < val:\n",
    "        maxNum = val \n",
    "\n",
    "maxNum"
   ]
  },
  {
   "cell_type": "code",
   "execution_count": 8,
   "id": "ce8f130a",
   "metadata": {},
   "outputs": [
    {
     "data": {
      "text/plain": [
       "6"
      ]
     },
     "execution_count": 8,
     "metadata": {},
     "output_type": "execute_result"
    }
   ],
   "source": [
    "#  Count Vowels in a String\n",
    "\n",
    "strVal = \"beautiful day\"\n",
    "\n",
    "count = 0\n",
    "for x in strVal:\n",
    "    if x in ['a', 'e', 'i', 'o', 'u']:\n",
    "        count = count + 1 \n",
    "\n",
    "count"
   ]
  },
  {
   "cell_type": "code",
   "execution_count": 10,
   "id": "270d8c21",
   "metadata": {},
   "outputs": [
    {
     "name": "stdout",
     "output_type": "stream",
     "text": [
      "10\n",
      "20\n"
     ]
    }
   ],
   "source": [
    "#  Swap Two Numbers  \n",
    "\n",
    "a = 10\n",
    "b = 20 \n",
    "\n",
    "b, a = a, b \n",
    "\n",
    "print(b)\n",
    "print(a)"
   ]
  },
  {
   "cell_type": "code",
   "execution_count": null,
   "id": "3212e598",
   "metadata": {},
   "outputs": [],
   "source": []
  }
 ],
 "metadata": {
  "kernelspec": {
   "display_name": "AIenv",
   "language": "python",
   "name": "python3"
  },
  "language_info": {
   "codemirror_mode": {
    "name": "ipython",
    "version": 3
   },
   "file_extension": ".py",
   "mimetype": "text/x-python",
   "name": "python",
   "nbconvert_exporter": "python",
   "pygments_lexer": "ipython3",
   "version": "3.10.16"
  }
 },
 "nbformat": 4,
 "nbformat_minor": 5
}
