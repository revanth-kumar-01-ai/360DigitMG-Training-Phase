{
 "cells": [
  {
   "cell_type": "code",
   "execution_count": 36,
   "id": "49f8523b",
   "metadata": {},
   "outputs": [
    {
     "data": {
      "text/plain": [
       "'olleh'"
      ]
     },
     "execution_count": 36,
     "metadata": {},
     "output_type": "execute_result"
    }
   ],
   "source": [
    "#  Reverse a String\n",
    "\n",
    "word = \"hello\"\n",
    "\n",
    "word[::-1]"
   ]
  },
  {
   "cell_type": "code",
   "execution_count": 38,
   "id": "68511bc7",
   "metadata": {},
   "outputs": [
    {
     "name": "stdout",
     "output_type": "stream",
     "text": [
      "15\n"
     ]
    }
   ],
   "source": [
    "#  Sum of List Elements\n",
    "\n",
    "arr = [1, 2, 3, 4, 5]\n",
    "\n",
    "s = 0\n",
    "for i in arr:\n",
    "    s = s + i \n",
    "\n",
    "print(s)"
   ]
  },
  {
   "cell_type": "code",
   "execution_count": 39,
   "id": "0189104d",
   "metadata": {},
   "outputs": [
    {
     "name": "stdout",
     "output_type": "stream",
     "text": [
      "even\n"
     ]
    }
   ],
   "source": [
    "# Check Even or Odd\n",
    "\n",
    "num = 12\n",
    "\n",
    "if num % 2 != 0:\n",
    "    print(\"odd\") \n",
    "else:\n",
    "    print(\"even\")"
   ]
  },
  {
   "cell_type": "code",
   "execution_count": null,
   "id": "3f3ffc7a",
   "metadata": {},
   "outputs": [],
   "source": []
  }
 ],
 "metadata": {
  "kernelspec": {
   "display_name": "AIenv",
   "language": "python",
   "name": "python3"
  },
  "language_info": {
   "codemirror_mode": {
    "name": "ipython",
    "version": 3
   },
   "file_extension": ".py",
   "mimetype": "text/x-python",
   "name": "python",
   "nbconvert_exporter": "python",
   "pygments_lexer": "ipython3",
   "version": "3.10.16"
  }
 },
 "nbformat": 4,
 "nbformat_minor": 5
}
