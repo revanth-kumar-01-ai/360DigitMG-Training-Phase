{
 "cells": [
  {
   "cell_type": "markdown",
   "id": "13176f35",
   "metadata": {},
   "source": [
    "# Interview Question \n",
    "\n",
    "**17-04-2025**"
   ]
  },
  {
   "cell_type": "markdown",
   "id": "1a7c248a",
   "metadata": {},
   "source": [
    "1.\tWhat is Auto EDA in Python, and how does it differ from traditional manual EDA techniques?\n",
    "\n",
    "In traditional EDA, we write code manually to explore and visualize data 📊.\n",
    "Auto EDA uses tools that do this automatically in just one or two lines of code ⚡.\n",
    "It saves time and gives quick insights without manual coding ⏱️🧠.\n"
   ]
  },
  {
   "cell_type": "markdown",
   "id": "021fc087",
   "metadata": {},
   "source": [
    "2.\tHow can you perform Auto EDA using the pandas-profiling library in Python? Provide a brief overview of the process.\n",
    "\n",
    "\n",
    "The pandas-profiling library is an Auto EDA tool in Python 🐍.\n",
    "It generates a detailed report with visualizations like bar charts 📊, histograms, and provides insights about the dataset automatically. 🚀\n",
    "You can use it in just a few lines of code!\n"
   ]
  },
  {
   "cell_type": "markdown",
   "id": "847f15f2",
   "metadata": {},
   "source": [
    "3. Sweetviz\n",
    "\n",
    "\n",
    "Sweetviz is an Auto EDA library in Python 🍭.\n",
    "It automatically generates a beautiful report with visualizations like histograms, bar charts, and more 🎨.\n",
    "With just a few lines of code, you can quickly analyze and gain insights from your dataset! 🚀\n",
    "\n"
   ]
  },
  {
   "cell_type": "markdown",
   "id": "2efc2bdc",
   "metadata": {},
   "source": [
    "4. Explain the role of the \"autoviz\" library in Python. What types of visualizations does it generate automatically?\n",
    "\n",
    "The Autoviz library in Python automatically generates visualizations like histograms, bar charts, scatter plots, and correlation matrices 📊.\n",
    "It helps you quickly understand your data by creating interactive reports with minimal code! 🚀\n"
   ]
  },
  {
   "cell_type": "markdown",
   "id": "fe4826cc",
   "metadata": {},
   "source": [
    "5. How can you use the \"dataprep\" library in Python for Auto EDA? Mention some key features and functionalities it offers for data analysis tasks.\n",
    "\n",
    "The dataprep library in Python is an Auto EDA tool 📊.\n",
    "First, import the package, then use the eda() function to generate an EDA report.\n",
    "You can save it in a variable (e.g., report) and call report.show() to view it in your browser 🚀.\n",
    "It provides easy-to-read visuals and insights for quick data analysis!\n"
   ]
  }
 ],
 "metadata": {
  "language_info": {
   "name": "python"
  }
 },
 "nbformat": 4,
 "nbformat_minor": 5
}
