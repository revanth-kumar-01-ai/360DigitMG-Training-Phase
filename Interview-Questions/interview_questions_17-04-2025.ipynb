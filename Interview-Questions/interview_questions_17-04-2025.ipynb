{
 "cells": [
  {
   "cell_type": "markdown",
   "id": "54c6eacc",
   "metadata": {},
   "source": [
    "# Interview Questions \n",
    "\n",
    "**17-04-2025**"
   ]
  },
  {
   "cell_type": "markdown",
   "id": "339db04b",
   "metadata": {},
   "source": [
    "1. Write an SQL query to retrieve all columns from a table named \"employees\".\n",
    "2. How do you write a query to select distinct values from a column in a table?\n",
    "3. Create an SQL query to update the \"salary\" column in the \"employees\" table where the \"department\" is \"HR\".\n",
    "4. Write an SQL query to delete rows from a table named \"customers\" where the \"age\" column is less than 18.\n",
    "5. How would you write an SQL query to insert a new record into a table named \"products\" with values for \"name\", \"price\", and \"quantity\"?"
   ]
  },
  {
   "cell_type": "markdown",
   "id": "311e7480",
   "metadata": {},
   "source": [
    "**1. Write an SQL query to retrieve all columns from a table named \"employees\".**\n",
    "\n",
    "```sql\n",
    "create database 360digiTMG;\n",
    "\n",
    "use 360digiTMG;\n",
    "\n",
    "create table Employes(\n",
    "\tid int primary key, \n",
    "    name varchar(100), \n",
    "    department varchar(100), \n",
    "    salary varchar(100)\n",
    ");\n",
    "\n",
    "insert  into  Employes values (1, \"Revanth kumar\", \"Data science\", \"1,00,000\");\n",
    "insert  into  Employes values (2, \"Sam\", \"AI developer\", \"2,00,000\");\n",
    "insert  into  Employes values (3, \"wick\", \"UI developer\", \"50,000\");\n",
    "\n",
    "select * from Employes;\n",
    "```"
   ]
  },
  {
   "cell_type": "markdown",
   "id": "ae44d7f4",
   "metadata": {},
   "source": [
    "**2. How do you write a query to select distinct values from a column in a table?**\n",
    "\n",
    "```sql\n",
    "insert into SalaryEmploye values (\"1,00,000\");\n",
    "insert into SalaryEmploye values (\"2,00,000\");\n",
    "insert into SalaryEmploye values (\"1,00,000\");\n",
    "insert into SalaryEmploye values (\"2,00,000\");\n",
    "insert into SalaryEmploye values (\"10,00,000\");\n",
    "\n",
    "select distinct salary from SalaryEmploye;\n",
    "```\n"
   ]
  },
  {
   "cell_type": "markdown",
   "id": "aa8b373d",
   "metadata": {},
   "source": [
    "**3. Create an SQL query to update the \"salary\" column in the \"employees\" table where the \"department\" is \"HR\".**\n",
    "\n",
    "```sql\n",
    "\n",
    "insert  into  Employes values (4, \"ravi\", \"HR\", \"10,000\");\n",
    "\n",
    "select department, salary from Employes where department = \"HR\";\n",
    "\n",
    "update Employes set salary = \"5,000\" where department = \"HR\";\n",
    "\n",
    "```"
   ]
  },
  {
   "cell_type": "markdown",
   "id": "a2d2a742",
   "metadata": {
    "vscode": {
     "languageId": "sql"
    }
   },
   "source": [
    "**4. Write an SQL query to delete rows from a table named \"customers\" where the \"age\" column is less than 18.**\n",
    "\n",
    "```sql\n",
    "\n",
    "create table EmployesTwo(\n",
    "\tid int primary key, \n",
    "    name varchar(100), \n",
    "    department varchar(100), \n",
    "    salary varchar(100), \n",
    "    age int\n",
    ");\n",
    "\n",
    "insert into EmployesTwo  values (1, \"Revanth kumar\", \"Data science\", \"1,00,000\", 25);\n",
    "insert into EmployesTwo  values (2, \"raju\", \"Data science\", \"1,00,000\", 17);\n",
    "\n",
    "delete from EmployesTwo where age < 18;\n",
    "\n",
    "select * from EmployesTwo;\n",
    "\n",
    "```"
   ]
  },
  {
   "cell_type": "markdown",
   "id": "d9fa0c12",
   "metadata": {
    "vscode": {
     "languageId": "markdown"
    }
   },
   "source": [
    "**5. How would you write an SQL query to insert a new record into a table named \"products\" with values for \"name\", \"price\", and \"quantity\"?**\n",
    "\n",
    "```sql\n",
    "create table product(\n",
    "    id int primary key, \n",
    "    name varchar(100),\n",
    "    price decimal(0,0),\n",
    "    quantity int\n",
    ");\n",
    "\n",
    "insert into product (id, name, price, quantity) values (1, \"apple\", \"50.37\", 5);\n",
    "\n",
    "select * from product;\n",
    "```"
   ]
  },
  {
   "cell_type": "code",
   "execution_count": null,
   "id": "84c3be1c",
   "metadata": {
    "vscode": {
     "languageId": "markdown"
    }
   },
   "outputs": [],
   "source": []
  },
  {
   "cell_type": "code",
   "execution_count": null,
   "id": "c3f4535f",
   "metadata": {
    "vscode": {
     "languageId": "sql"
    }
   },
   "outputs": [],
   "source": []
  },
  {
   "cell_type": "code",
   "execution_count": null,
   "id": "96f582bb",
   "metadata": {
    "vscode": {
     "languageId": "sql"
    }
   },
   "outputs": [],
   "source": []
  }
 ],
 "metadata": {
  "kernelspec": {
   "display_name": "AIenv",
   "language": "python",
   "name": "python3"
  },
  "language_info": {
   "codemirror_mode": {
    "name": "ipython",
    "version": 3
   },
   "file_extension": ".py",
   "mimetype": "text/x-python",
   "name": "python",
   "nbconvert_exporter": "python",
   "pygments_lexer": "ipython3",
   "version": "3.10.16"
  }
 },
 "nbformat": 4,
 "nbformat_minor": 5
}
