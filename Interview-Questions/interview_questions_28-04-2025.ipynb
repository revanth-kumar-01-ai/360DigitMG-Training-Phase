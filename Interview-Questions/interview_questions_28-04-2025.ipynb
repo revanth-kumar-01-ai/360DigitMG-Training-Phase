{
 "cells": [
  {
   "cell_type": "markdown",
   "id": "491d9fa4",
   "metadata": {},
   "source": [
    "# Interview Questions\n",
    "\n",
    "**28-04-2025**"
   ]
  },
  {
   "cell_type": "markdown",
   "id": "6e7cdd52",
   "metadata": {},
   "source": [
    "# Python "
   ]
  },
  {
   "cell_type": "markdown",
   "id": "1bb39b05",
   "metadata": {},
   "source": [
    "**1. What is the purpose of the __init__ method in Python classes? How is it \n",
    "different from other methods?**\n",
    "\n",
    "### 🔹 `__init__` method in Python:\n",
    "\n",
    "* It’s a **constructor** 💥\n",
    "* Runs **automatically** when you create an object\n",
    "* Used to **initialize** values 🛠️\n",
    "\n",
    "\n",
    "### 🔸 Difference from other methods:\n",
    "\n",
    "* Other methods are called **manually**\n",
    "* `__init__` runs **first**, right after object creation 🔄\n",
    "\n",
    "\n",
    "### 🧪 Example:\n",
    "\n",
    "```python\n",
    "class Car:\n",
    "    def __init__(self, brand):\n",
    "        self.brand = brand\n",
    "\n",
    "c = Car(\"BMW\")  # __init__ runs here\n",
    "```\n"
   ]
  },
  {
   "cell_type": "markdown",
   "id": "48405f06",
   "metadata": {},
   "source": [
    "2. Explain the usage of *args and **kwargs in Python function definitions. Provide an example.**\n",
    "\n",
    "### 🔹 `*args`\n",
    "\n",
    "* Takes **multiple positional values** 📦\n",
    "* Returns as a **tuple**\n",
    "\n",
    "---\n",
    "\n",
    "### 🔸 `**kwargs`\n",
    "\n",
    "* Takes **multiple keyword (key=value) pairs** 🗂️\n",
    "* Returns as a **dictionary**"
   ]
  },
  {
   "cell_type": "markdown",
   "id": "3102c786",
   "metadata": {},
   "source": [
    "**3. How does Python handle exceptions? What are the differences between \n",
    "try/except and finally blocks?**\n",
    "\n",
    "### 🛠️ How Python handles exceptions:\n",
    "\n",
    "👉 Python uses **try-except** to **catch and handle errors** without crashing 🚫💥\n",
    "\n",
    "---\n",
    "\n",
    "### 🔹 `try/except`\n",
    "\n",
    "* **try**: write risky code here\n",
    "* **except**: what to do if error happens\n",
    "\n",
    "```python\n",
    "try:\n",
    "    x = 5 / 0\n",
    "except ZeroDivisionError:\n",
    "    print(\"Can't divide by zero 😅\")\n",
    "```\n",
    "\n",
    "---\n",
    "\n",
    "### 🔸 `finally`\n",
    "\n",
    "* Runs **no matter what** (error or not)\n",
    "\n",
    "```python\n",
    "finally:\n",
    "    print(\"Done ✅\")\n",
    "```\n"
   ]
  },
  {
   "cell_type": "markdown",
   "id": "33b9c05c",
   "metadata": {},
   "source": [
    "**4. How can you sort a dictionary in Python based on its values?**"
   ]
  },
  {
   "cell_type": "code",
   "execution_count": 1,
   "id": "7f6674ca",
   "metadata": {},
   "outputs": [
    {
     "data": {
      "text/plain": [
       "{'a': 3, 'b': 1, 'c': 2}"
      ]
     },
     "execution_count": 1,
     "metadata": {},
     "output_type": "execute_result"
    }
   ],
   "source": [
    "my_dict = {'a': 3, 'b': 1, 'c': 2}\n",
    "\n",
    "my_dict"
   ]
  },
  {
   "cell_type": "code",
   "execution_count": 4,
   "id": "76fa5b65",
   "metadata": {},
   "outputs": [
    {
     "data": {
      "text/plain": [
       "dict_items([('a', 3), ('b', 1), ('c', 2)])"
      ]
     },
     "execution_count": 4,
     "metadata": {},
     "output_type": "execute_result"
    }
   ],
   "source": [
    "my_dict.items()"
   ]
  },
  {
   "cell_type": "code",
   "execution_count": 5,
   "id": "7ae66b16",
   "metadata": {},
   "outputs": [
    {
     "data": {
      "text/plain": [
       "{'b': 1, 'c': 2, 'a': 3}"
      ]
     },
     "execution_count": 5,
     "metadata": {},
     "output_type": "execute_result"
    }
   ],
   "source": [
    "dict(sorted(my_dict.items(), key = lambda item: item[1]))"
   ]
  },
  {
   "cell_type": "markdown",
   "id": "d7d5d787",
   "metadata": {},
   "source": [
    "**5. Explain negative indexing in lists and provide an example**\n",
    "\n",
    "### 🔹 What is **negative indexing**?\n",
    "\n",
    "👉 It means counting **from the end** of the list 🔚\n",
    "👉 `-1` = last item, `-2` = second last, etc.\n",
    "\n",
    "\n",
    "\n",
    "### 🧪 Example:\n",
    "\n",
    "```python\n",
    "my_list = [10, 20, 30, 40]\n",
    "\n",
    "print(my_list[-1])  # 👉 40  \n",
    "print(my_list[-2])  # 👉 30\n",
    "```\n",
    "\n",
    "\n"
   ]
  },
  {
   "cell_type": "markdown",
   "id": "63d3c39f",
   "metadata": {},
   "source": [
    "**6. Define a palindrome. Write a Python program to check if a string is a \n",
    "palindrome.**\n",
    "\n",
    "```python\n",
    "def is_palindrome(s):\n",
    "    return s == s[::-1]"
   ]
  },
  {
   "cell_type": "markdown",
   "id": "4ab95e38",
   "metadata": {},
   "source": [
    "# EDA"
   ]
  },
  {
   "cell_type": "markdown",
   "id": "3b9bcc32",
   "metadata": {},
   "source": [
    "**1. What insights can you gather from a histogram in EDA?**\n",
    "\n",
    "### 📊 Histogram Insights in EDA:\n",
    "\n",
    "1. **Data Distribution** – Shows how values are spread 📈\n",
    "2. **Skewness** – Tells if data is left or right skewed ↩️➡️\n",
    "3. **Outliers** – Unusual spikes or gaps 🚨\n",
    "4. **Central Tendency** – Where most values lie 🎯\n",
    "\n",
    "---\n",
    "\n",
    "💡 Helps to understand the **shape** of data quickly! 🔍📉\n"
   ]
  },
  {
   "cell_type": "markdown",
   "id": "48bd49b6",
   "metadata": {},
   "source": [
    "**2. Which data visualization technique is commonly used to display the \n",
    "relationship between a categorical variable and a numerical variable?** \n",
    "\n",
    "### ✅ **Bar Plot**:\n",
    "\n",
    "* Each **rectangle** (bar) shows the **frequency** (count) 📏\n",
    "* OR it can show **average/total** if you **group by** category 💡\n",
    "* Used with **categorical + numerical** data 📊\n"
   ]
  },
  {
   "cell_type": "markdown",
   "id": "fe0a212e",
   "metadata": {},
   "source": [
    "**3. What are the standard names for positive, negative, and normal kurtosis \n",
    "curves?**\n",
    "\n",
    "### 📈 Kurtosis Types:\n",
    "\n",
    "1. **Positive kurtosis** → **Leptokurtic** 🔺\n",
    "2. **Negative kurtosis** → **Platykurtic** 🔻\n",
    "3. **Normal kurtosis** → **Mesokurtic** ➖"
   ]
  },
  {
   "cell_type": "markdown",
   "id": "3b51e7f7",
   "metadata": {},
   "source": [
    "**4. What is the formula for calculating the expected value?**\n",
    "\n",
    "### 📘 **Expected Value (E)** Formula:\n",
    "\n",
    "$$\n",
    "E(X) = \\sum [x \\times P(x)]\n",
    "$$\n",
    "\n",
    "👉 Multiply each value `x` by its probability `P(x)` and add them up ➕"
   ]
  },
  {
   "cell_type": "markdown",
   "id": "2aa7439d",
   "metadata": {},
   "source": [
    "**5. What is the default value for the number of bins in a histogram using \n",
    "matplotlib and seaborn libraries?**\n",
    "\n",
    "### 📊 Default bins:\n",
    "\n",
    "* **Matplotlib** 👉 `bins=10` 🔟\n",
    "* **Seaborn** 👉 Auto-calculated using **Freedman–Diaconis rule** ⚙️ (varies with data)\n"
   ]
  },
  {
   "cell_type": "markdown",
   "id": "d1182db4",
   "metadata": {},
   "source": [
    "# Data preprocessing"
   ]
  },
  {
   "cell_type": "markdown",
   "id": "bc988940",
   "metadata": {},
   "source": [
    "**1) What is the difference between data normalization and data standardization? \n",
    "When would you use each technique?**"
   ]
  },
  {
   "cell_type": "markdown",
   "id": "4f35096c",
   "metadata": {},
   "source": [
    "### 🔹 **Normalization** (Min-Max Scaling)\n",
    "\n",
    "👉 Scales data between **0 and 1**\n",
    "📦 Formula:\n",
    "\n",
    "$$\n",
    "X' = \\frac{X - X_{\\min}}{X_{\\max} - X_{\\min}}\n",
    "$$\n",
    "\n",
    "✅ Use when **data doesn't follow normal distribution**\n",
    "\n",
    "---\n",
    "\n",
    "### 🔸 **Standardization** (Z-score Scaling)\n",
    "\n",
    "👉 Converts data to have **mean = 0** and **std = 1**\n",
    "📦 Formula:\n",
    "\n",
    "$$\n",
    "Z = \\frac{X - \\mu}{\\sigma}\n",
    "$$\n",
    "\n",
    "✅ Use when **data is normally distributed**\n",
    "\n",
    "---\n",
    "\n",
    "💡 Normalize → for ML models like **KNN, NN**\n",
    "💡 Standardize → for models like **LR, SVM**\n",
    "\n",
    "🔥 Both help in better model performance! 💪📊\n"
   ]
  },
  {
   "cell_type": "markdown",
   "id": "e07b50c7",
   "metadata": {},
   "source": [
    "**2.Explain the difference between One Hot Encoding and Label Encoding. When \n",
    "would you use each method?**\n",
    "\n",
    "### 🔹 **Label Encoding**\n",
    "\n",
    "👉 Converts categories to **numbers** (e.g., Red=0, Blue=1) 🔢\n",
    "✅ Use when **order matters** (like Low, Medium, High) 📶\n",
    "\n",
    "---\n",
    "\n",
    "### 🔸 **One Hot Encoding**\n",
    "\n",
    "👉 Creates **separate column** for each category with 0 or 1 🟦\n",
    "✅ Use when **no order** (like City, Gender) 🚫📊\n",
    "\n",
    "---\n",
    "\n",
    "💡 Use One Hot for ML models that care about **distance** (like KNN)\n",
    "💡 Use Label when categories have **ranking** 🔝\n",
    "\n",
    "🔥 Helps models understand categories ! 💪📈\n"
   ]
  },
  {
   "cell_type": "markdown",
   "id": "c864f4d9",
   "metadata": {},
   "source": [
    "**3. Define discretization. How can you discretize continuous data?**\n",
    "\n",
    "\n",
    "\n",
    "### 🔹 **Discretization**\n",
    "\n",
    "👉 It's the process of **converting continuous data** (like 10.5, 12.3) into **discrete categories** (like low, medium, high) 🏷️\n",
    "\n",
    "\n",
    "\n",
    "### 🔸 **How to discretize continuous data?**\n",
    "\n",
    "1. **Equal Width Binning**: Divide range into equal intervals ⏸️\n",
    "2. **Equal Frequency Binning**: Divide data into bins with the **same number** of data points 🔢\n",
    "3. **Custom Binning**: Based on domain knowledge or specific thresholds 🧠\n",
    "\n",
    "\n",
    "\n",
    "💡 Discretization helps models work better with non-continuous values! 🔥📊\n"
   ]
  },
  {
   "cell_type": "markdown",
   "id": "929bc9a7",
   "metadata": {},
   "source": [
    "**4. How would you normalize text data for natural language processing (NLP)?**\n",
    "\n",
    "### 🔸 Steps for Normalization:\n",
    "\n",
    "1. **Lowercasing**: Convert all text to lowercase 🧑‍💻\n",
    "\n",
    "   * `\"Hello\"` → `\"hello\"`\n",
    "\n",
    "2. **Removing Punctuation**: Eliminate special characters and symbols ✂️\n",
    "\n",
    "   * `\"Hello, world!\"` → `\"hello world\"`\n",
    "\n",
    "3. **Removing Stop Words**: Remove common words that don’t add much meaning (like \"the\", \"and\") 🚫\n",
    "\n",
    "   * `\"The cat is on the mat\"` → `\"cat mat\"`\n",
    "\n",
    "4. **Tokenization**: Split text into words or tokens 🔠\n",
    "\n",
    "   * `\"hello world\"` → `[\"hello\", \"world\"]`\n",
    "\n",
    "5. **Stemming/Lemmatization**: Reduce words to their base form 🌱\n",
    "\n",
    "   * `\"running\"` → `\"run\"` (Stemming)\n",
    "   * `\"better\"` → `\"good\"` (Lemmatization)\n"
   ]
  },
  {
   "cell_type": "markdown",
   "id": "12d97eed",
   "metadata": {},
   "source": [
    "**5. What is meant by Imbalaced data?How do you handle imbalanced datasets in \n",
    "data preprocessing?**\n",
    "\n",
    "### 🔹 **Imbalanced Data**\n",
    "\n",
    "👉 When one class (or category) has **significantly more** samples than another in a dataset ⚖️\n",
    "\n",
    "### 🔸 **Handling Imbalanced Datasets**:\n",
    "\n",
    "1. **Resampling Techniques**:\n",
    "\n",
    "   * **Oversampling**: Increase the number of samples in the **minority class** (e.g., using **SMOTE**) 📈\n",
    "   * **Undersampling**: Decrease the number of samples in the **majority class** 📉"
   ]
  },
  {
   "cell_type": "markdown",
   "id": "798b85c2",
   "metadata": {},
   "source": []
  }
 ],
 "metadata": {
  "kernelspec": {
   "display_name": "base",
   "language": "python",
   "name": "python3"
  },
  "language_info": {
   "codemirror_mode": {
    "name": "ipython",
    "version": 3
   },
   "file_extension": ".py",
   "mimetype": "text/x-python",
   "name": "python",
   "nbconvert_exporter": "python",
   "pygments_lexer": "ipython3",
   "version": "3.12.7"
  }
 },
 "nbformat": 4,
 "nbformat_minor": 5
}
