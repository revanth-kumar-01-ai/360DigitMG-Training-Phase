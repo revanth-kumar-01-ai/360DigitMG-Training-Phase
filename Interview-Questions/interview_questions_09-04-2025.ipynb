{
 "cells": [
  {
   "cell_type": "code",
   "execution_count": null,
   "id": "5ffe5f4c",
   "metadata": {},
   "outputs": [],
   "source": [
    "# 1. What is Tableau and how does it differ from traditional business intelligence tools?\n",
    "# 2. Explain the difference between a discrete and a continuous field in Tableau.\n",
    "# 3. How would you create a calculated field in Tableau? Provide an example.\n",
    "# 4. Describe the process of blending data in Tableau. When would you use data blending instead of joining?\n",
    "# 5. What are some best practices for optimizing performance in Tableau dashboards?\n"
   ]
  },
  {
   "cell_type": "code",
   "execution_count": null,
   "id": "07dc02e3",
   "metadata": {},
   "outputs": [],
   "source": []
  }
 ],
 "metadata": {
  "kernelspec": {
   "display_name": "AIenv",
   "language": "python",
   "name": "python3"
  },
  "language_info": {
   "name": "python",
   "version": "3.10.16"
  }
 },
 "nbformat": 4,
 "nbformat_minor": 5
}
