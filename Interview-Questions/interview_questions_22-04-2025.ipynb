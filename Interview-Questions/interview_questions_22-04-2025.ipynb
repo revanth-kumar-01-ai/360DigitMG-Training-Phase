{
 "cells": [
  {
   "cell_type": "markdown",
   "id": "a9397603",
   "metadata": {},
   "source": [
    "# Interview Question \n",
    "\n",
    "**22-04-2025**"
   ]
  },
  {
   "cell_type": "markdown",
   "id": "7565f336",
   "metadata": {},
   "source": [
    "**1. What is a Gated Recurrent Unit (GRU), and how does it differ from LSTMs?**\n",
    "\n",
    "\n",
    "### 🧠 **GRU (Gated Recurrent Unit)**\n",
    "\n",
    "It's a type of RNN that helps remember info from past steps, like LSTM, but **simpler** and **faster** ⚡\n",
    "\n",
    "### 🔍 **GRU vs LSTM**\n",
    "\n",
    "| Feature     | GRU 🧠                 | LSTM 🧠                      |\n",
    "| ----------- | ---------------------- | ---------------------------- |\n",
    "| Gates       | 2️⃣ (Update & Reset)   | 3️⃣ (Input, Forget, Output)  |\n",
    "| Memory Cell | ❌ No separate cell     | ✅ Has memory cell            |\n",
    "| Speed       | ⚡ Faster               | 🐢 Slower                    |\n",
    "| Simplicity  | ✅ Simple               | ❌ Complex                    |\n",
    "| Performance | 👍 Good for short data | 💪 Better for long sequences |\n",
    "\n",
    "\n",
    "**GRU is best** when you want quick results\n",
    "\n",
    "**LSTM is better** when you need to remember long info"
   ]
  },
  {
   "cell_type": "markdown",
   "id": "fe5ac3ce",
   "metadata": {},
   "source": [
    "**2. What is the difference between a fully connected layer and a convolutional layer?**\n",
    "\n",
    "\n",
    "##### 🧠 **Fully Connected Layer (Dense Layer)**\n",
    "\n",
    "* Every neuron is **connected to all** neurons in the next layer 🔗\n",
    "* Used at the **end** of CNNs to make final decisions\n",
    "* Needs **more memory & time** 💾⌛\n",
    "\n",
    "##### 🧠 **Convolutional Layer**\n",
    "\n",
    "* Uses **filters** to scan small parts of the image 🖼️🔍\n",
    "* Captures **patterns like edges, shapes, textures**\n",
    "* Needs **less memory**, more efficient 🚀\n",
    "\n",
    "##### 🔍 **Key Differences:**\n",
    "\n",
    "| Feature     | Convolutional Layer 🧩 | Fully Connected Layer 🔗     |\n",
    "| ----------- | ---------------------- | ---------------------------- |\n",
    "| Connections | Local (small regions)  | Global (all nodes connected) |\n",
    "| Parameters  | Fewer 💡               | More 🔢                      |\n",
    "| Usage       | Feature extraction 🖼️ | Final prediction 🎯          |\n",
    "| Input Type  | 2D (image)             | 1D (flattened vector)        |\n",
    "\n",
    "- CNN layer = Smart pattern finder\n",
    "- FC layer = Final decision maker ✅\n"
   ]
  },
  {
   "cell_type": "markdown",
   "id": "56663c68",
   "metadata": {},
   "source": [
    "**3. What is a pooling layer in a CNN, and what purpose does it serve?**\n",
    "\n",
    "### 🧠 **Pooling Layer in CNN**\n",
    "\n",
    "It reduces the size of the image (feature map) while keeping the **important info** ✅\n",
    "\n",
    "### 🔧 **Why use pooling?**\n",
    "\n",
    "* 🧹 Removes noise\n",
    "* 💾 Reduces computation\n",
    "* 🧠 Focuses on **important features**\n",
    "\n",
    "### 🔍 Common Types:\n",
    "\n",
    "| Type         | What it does               |\n",
    "| ------------ | -------------------------- |\n",
    "| **Max Pool** | Keeps the biggest value 💪 |\n",
    "| **Avg Pool** | Takes average value 📊     |\n",
    "\n",
    "### 🔁 Example:\n",
    "\n",
    "From `2x2 → 1 value` (like keeping the max)\n",
    "This helps model to be faster + stronger 💥\n"
   ]
  },
  {
   "cell_type": "markdown",
   "id": "5f5ab9ec",
   "metadata": {},
   "source": [
    "**4. What is the role of a softmax function in deep learning models?**\n",
    "\n",
    "### 🧠 **Softmax Function**\n",
    "\n",
    "It converts raw scores (logits) into **probabilities** 📊\n",
    "\n",
    "Used in the **last layer** for **multi-class classification** 🏷️\n",
    "\n",
    "### 🔍 Role:\n",
    "\n",
    "* 🎯 Shows **which class is most likely**\n",
    "\n",
    "* ✅ All outputs add up to 1\n",
    "\n",
    "* 🔢 Example output: \\[0.1, 0.7, 0.2] → Class 2 is highest!\n",
    "\n",
    "**Use softmax** when you have **more than 2 classes** in output 🔥\n",
    "\n",
    "It's like the model saying: “I'm 70% sure it's class 2!” 😁"
   ]
  },
  {
   "cell_type": "markdown",
   "id": "40697be2",
   "metadata": {},
   "source": [
    "**5. Can you explain the concept of autoencoders and their applications?** \n",
    "\n",
    "\n",
    "### 🧠 **Autoencoder = Encoder + Decoder**\n",
    "\n",
    "It learns to **compress** the data (like zip) and then **rebuild** it back 💾🔁\n",
    "No need for labels = **unsupervised learning** 😇\n",
    "\n",
    "### 🧩 **Parts:**\n",
    "\n",
    "* **Encoder** 🧠: Turns input into small code (compressed)\n",
    "* **Decoder** 🛠️: Rebuilds original from the code\n",
    "\n",
    "### 🎯 **Applications:**\n",
    "\n",
    "* 🧹 Noise removal from images\n",
    "* 🔒 Anomaly detection\n",
    "* 🧬 Dimensionality reduction\n",
    "* 🖼️ Image generation (like faces, digits)\n",
    "\n",
    "Simple idea: **Learn to copy input smartly** 💡"
   ]
  },
  {
   "cell_type": "markdown",
   "id": "2f5de3d0",
   "metadata": {},
   "source": [
    "**6. What types of documents can be processed using OCR?**\n",
    "\n",
    "### 📚 **OCR can process these types of documents:**\n",
    "\n",
    "* 📄 **Printed documents** (Books, Newspapers)\n",
    "* 🧾 **Invoices & Bills**\n",
    "* 🆔 **ID cards & Passports**\n",
    "* 📦 **Shipping labels**\n",
    "* 📃 **Forms & Surveys**\n",
    "* 📝 **Handwritten notes** (with deep learning OCR)\n",
    "\n",
    "💡 OCR is super useful in offices, banks, hospitals, and more! 🏢🏥📦\n"
   ]
  },
  {
   "cell_type": "markdown",
   "id": "faa24c41",
   "metadata": {},
   "source": [
    "**7. What is the difference between OCR, ICR, and OMR?**\n",
    "\n",
    "\n",
    "| 🧠 Tech | 💬 Full Form                      | 📌 Purpose                                          |\n",
    "| ------- | --------------------------------- | --------------------------------------------------- |\n",
    "| **OCR** | Optical Character Recognition     | Reads **printed or handwritten text** 📝            |\n",
    "| **ICR** | Intelligent Character Recognition | Reads **handwritten** text more smartly using AI 🧠 |\n",
    "| **OMR** | Optical Mark Recognition          | Detects **marks/checks** like in exams ✅❌           |\n",
    "\n",
    "\n",
    "🔍 OCR = text\n",
    "🧠 ICR = smart handwriting\n",
    "✅ OMR = mark detection (like MCQs)\n",
    "\n"
   ]
  },
  {
   "cell_type": "markdown",
   "id": "29578337",
   "metadata": {},
   "source": [
    "**8. What is the accuracy rate of OCR technology?** \n",
    "\n",
    "### 📊 **OCR Accuracy Rate:**\n",
    "\n",
    "* 🖨️ **Printed text** → **95% to 99%** ✅\n",
    "* ✍️ **Handwritten text** → **60% to 90%** ✍️ (depends on clarity)\n",
    "\n",
    "\n",
    "🔍 Accuracy depends on:\n",
    "\n",
    "* Text quality 📄\n",
    "* Image clarity 🖼️\n",
    "* Font type 🔤\n",
    "* OCR model used 🤖\n",
    "\n",
    "💡 Deep learning-based OCR gives higher accuracy! 🚀\n"
   ]
  },
  {
   "cell_type": "markdown",
   "id": "49ecc674",
   "metadata": {},
   "source": [
    "**9. How can OCR accuracy be improved?**\n",
    "\n",
    "### 🔝 **Tips to Improve OCR Accuracy:**\n",
    "\n",
    "1. 🧼 **Clean image** – No noise, blur, or shadows\n",
    "2. 🖼️ **High resolution** – Use clear images (300 DPI is great)\n",
    "3. 📐 **Proper alignment** – Make text straight (no tilt)\n",
    "4. 🔤 **Standard fonts** – Use easy-to-read fonts (like Arial)\n",
    "5. 🌈 **Good contrast** – Dark text on light background (or vice versa)\n",
    "6. 🤖 **Use deep learning OCR** – like Tesseract + LSTM or CRNN\n",
    "7. ✂️ **Preprocessing** – Resize, binarize, and denoise before OCR\n",
    "\n"
   ]
  },
  {
   "cell_type": "markdown",
   "id": "c3d2afec",
   "metadata": {},
   "source": [
    "**10. What are the limitations of OCR?**\n",
    "\n",
    "### ❌ **Limitations of OCR:**\n",
    "\n",
    "1. 📉 **Low accuracy** with blurry or noisy images\n",
    "2. ✍️ **Hard to read handwriting** (ICR needed for that)\n",
    "3. 🔤 **Stylish or distorted fonts** confuse OCR\n",
    "4. 📐 **Skewed or rotated text** lowers detection\n",
    "5. 🌈 **Low contrast** between text & background = bad results\n",
    "6. 📄 **Complex layouts** (tables, columns) can mess up the reading\n",
    "7. 🌍 **Multilingual text** needs special models\n",
    "\n"
   ]
  },
  {
   "cell_type": "markdown",
   "id": "8575aa2b",
   "metadata": {},
   "source": []
  }
 ],
 "metadata": {
  "language_info": {
   "name": "python"
  }
 },
 "nbformat": 4,
 "nbformat_minor": 5
}
