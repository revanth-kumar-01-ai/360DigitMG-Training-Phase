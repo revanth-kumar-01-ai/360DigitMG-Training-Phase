{
 "cells": [
  {
   "cell_type": "markdown",
   "id": "c6236c76",
   "metadata": {},
   "source": [
    "# Interview Questions \n",
    "\n",
    "**11-04-2025**\n"
   ]
  },
  {
   "cell_type": "markdown",
   "id": "6b85a38a",
   "metadata": {},
   "source": [
    "### 1) What does \"SELECT * FROM table_name\" in SQL retrieve?\n",
    "\n",
    "####  The select * from table_name it retrieve all rows and columns "
   ]
  },
  {
   "cell_type": "markdown",
   "id": "a4d93fd5",
   "metadata": {},
   "source": [
    "### 2) Explain the difference between INNER JOIN and LEFT JOIN.\n",
    "\n",
    "#### Inner join\n",
    "- Returns only matching rows from both tables 👥\n",
    "- Like the common part in a Venn diagram 🎯\n",
    "- If no match ➡️ row is not shown ❌\n",
    "\n",
    "#### Left join \n",
    "- Returns all rows from the left table 🧾\n",
    "- If there's a match in the right table ➡️ show it ✅\n",
    "- If no match ➡️ right side will be NULL 🕳️"
   ]
  },
  {
   "cell_type": "markdown",
   "id": "6c954e16",
   "metadata": {},
   "source": [
    "### 3) How does the WHERE clause work in SQL queries?\n",
    "\n",
    "The WHERE clause is used to filter rows based on a condition 🔍\n",
    "It shows only the rows that match the condition 🎯"
   ]
  },
  {
   "cell_type": "markdown",
   "id": "b04fb354",
   "metadata": {},
   "source": [
    "### 4) What is the purpose of the GROUP BY clause in SQL?\n",
    "\n",
    "The GROUP BY clause is used to group rows that have the same values in a column 🎯\n",
    "It's mostly used with aggregate functions like COUNT(), SUM(), AVG() etc. ➕📊"
   ]
  },
  {
   "cell_type": "markdown",
   "id": "66bf7573",
   "metadata": {},
   "source": [
    "### 5) Explain the significance of the ORDER BY clause in SQL queries\n",
    "\n",
    "The ORDER BY clause is used to sort rows in ascending (ASC) 🔼 or descending (DESC) 🔽 order based on one or more columns."
   ]
  }
 ],
 "metadata": {
  "kernelspec": {
   "display_name": "AIenv",
   "language": "python",
   "name": "python3"
  },
  "language_info": {
   "name": "python",
   "version": "3.10.16"
  }
 },
 "nbformat": 4,
 "nbformat_minor": 5
}
