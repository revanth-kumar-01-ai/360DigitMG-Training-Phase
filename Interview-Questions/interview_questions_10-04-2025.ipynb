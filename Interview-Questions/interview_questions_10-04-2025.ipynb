{
 "cells": [
  {
   "cell_type": "markdown",
   "id": "5ffe5f4c",
   "metadata": {},
   "source": [
    "# Interview Question \n",
    "10-04-2025"
   ]
  },
  {
   "cell_type": "code",
   "execution_count": 1,
   "id": "b47a3f93",
   "metadata": {},
   "outputs": [],
   "source": [
    "import pandas as pd \n",
    "import matplotlib.pyplot as plt \n",
    "import seaborn as sns \n",
    "import numpy as np "
   ]
  },
  {
   "cell_type": "markdown",
   "id": "07dc02e3",
   "metadata": {},
   "source": [
    "**1. Write Python code to calculate the mean, median, and standard deviation of a numerical column named \"sales_amount\" in a DataFrame called \"sales_data\".**"
   ]
  },
  {
   "cell_type": "code",
   "execution_count": 5,
   "id": "a55affbf",
   "metadata": {},
   "outputs": [],
   "source": [
    "np.random.seed(42)\n",
    "\n",
    "data = np.random.random(100) * 1000\n",
    "\n",
    "sales_data = pd.DataFrame(data, columns=['sales_amount'])"
   ]
  },
  {
   "cell_type": "code",
   "execution_count": 9,
   "id": "a2ad1a4e",
   "metadata": {},
   "outputs": [
    {
     "name": "stdout",
     "output_type": "stream",
     "text": [
      "mean sales_amount    470.180743\n",
      "dtype: float64 \n",
      "\n",
      "median sales_amount    464.142455\n",
      "dtype: float64 \n",
      "\n",
      "Standard deviation sales_amount    297.489411\n",
      "dtype: float64\n"
     ]
    }
   ],
   "source": [
    "print(\"mean\", sales_data.mean(), '\\n')\n",
    "print(\"median\", sales_data.median(), '\\n')\n",
    "print(\"Standard deviation\", sales_data.std())"
   ]
  },
  {
   "cell_type": "markdown",
   "id": "a2d8c759",
   "metadata": {},
   "source": [
    "**2.How do you plot a histogram of the column \"age\" from a DataFrame called \"customer_data\" using matplotlib in Python?**"
   ]
  },
  {
   "cell_type": "code",
   "execution_count": 20,
   "id": "db0612ff",
   "metadata": {},
   "outputs": [],
   "source": [
    "np.random.seed(42)\n",
    "\n",
    "data = np.random.choice(60, 100)\n",
    "\n",
    "customer_data = pd.DataFrame(data, columns=['age'])"
   ]
  },
  {
   "cell_type": "code",
   "execution_count": 21,
   "id": "e51ef42d",
   "metadata": {},
   "outputs": [
    {
     "data": {
      "image/png": "[encoded data removed]",
      "text/plain": [
       "<Figure size 640x480 with 1 Axes>"
      ]
     },
     "metadata": {},
     "output_type": "display_data"
    }
   ],
   "source": [
    "sns.histplot(customer_data['age'])\n",
    "plt.show()"
   ]
  },
  {
   "cell_type": "markdown",
   "id": "821f41f7",
   "metadata": {},
   "source": [
    "**3. Write a SQL query to retrieve the names of all employees whose salary is greater than $50,000 from a table named \"employees\".**"
   ]
  },
  {
   "cell_type": "markdown",
   "id": "f58d0f7d",
   "metadata": {},
   "source": [
    "```sql\n",
    "-- Create a new database\n",
    "CREATE DATABASE employees360DigiTMG;\n",
    "\n",
    "-- Switch to the new database\n",
    "USE employees360DigiTMG;\n",
    "\n",
    "-- Create the employees table\n",
    "CREATE TABLE employees (\n",
    "\tid INT PRIMARY KEY, \n",
    "    FirstName VARCHAR(100),\n",
    "    lastName VARCHAR(100),\n",
    "    department VARCHAR(100),\n",
    "    salary DECIMAL(10, 2)\n",
    ");\n",
    "\n",
    "-- Insert sample data into the table\n",
    "INSERT INTO employees (id, FirstName, lastName, department, salary) VALUES\n",
    "(1, 'John', 'Doe', 'HR', 30500.00),\n",
    "(2, 'Jane', 'Smith', 'IT', 45000.00),\n",
    "(3, 'Alice', 'Brown', 'Finance', 60000.00),\n",
    "(4, 'Bob', 'Wilson', 'Marketing', 38900.00),\n",
    "(5, 'Eve', 'Davis', 'HR', 52000.00),\n",
    "(6, 'Charlie', 'Miller', 'IT', 33200.00),\n",
    "(7, 'Grace', 'Clark', 'Finance', 47800.00),\n",
    "(8, 'David', 'Lopez', 'Marketing', 58000.00),\n",
    "(9, 'Helen', 'Walker', 'HR', 35000.00),\n",
    "(10, 'Sam', 'Lee', 'IT', 39700.00),\n",
    "(11, 'Lily', 'Hall', 'Finance', 54900.00),\n",
    "(12, 'Ryan', 'Young', 'Marketing', 42900.00),\n",
    "(13, 'Diana', 'Allen', 'HR', 61000.00),\n",
    "(14, 'Victor', 'King', 'IT', 30000.00),\n",
    "(15, 'Nina', 'Scott', 'Finance', 45900.00),\n",
    "(16, 'Jake', 'Green', 'Marketing', 48200.00),\n",
    "(17, 'Sara', 'Baker', 'HR', 37500.00),\n",
    "(18, 'Tom', 'Nelson', 'IT', 41000.00),\n",
    "(19, 'Emily', 'Adams', 'Finance', 53000.00),\n",
    "(20, 'Luke', 'Wright', 'Marketing', 34700.00);\n",
    "\n",
    "-- Query: Show all employees with salary greater than 50000\n",
    "SELECT * FROM employees WHERE salary > 50000;\n",
    "```\n"
   ]
  },
  {
   "cell_type": "markdown",
   "id": "0d6450eb",
   "metadata": {},
   "source": [
    "4. What SQL keyword is used to filter rows in a WHERE clause?\n",
    "\n",
    "\tWHERE is the SQL keyword used to filter rows based on conditions.\n"
   ]
  },
  {
   "cell_type": "markdown",
   "id": "c9d98902",
   "metadata": {},
   "source": [
    "5. How do you delete all records from a table named \"products\"?\n",
    "\n",
    "\tdrop table if exists products;"
   ]
  }
 ],
 "metadata": {
  "kernelspec": {
   "display_name": "AIenv",
   "language": "python",
   "name": "python3"
  },
  "language_info": {
   "codemirror_mode": {
    "name": "ipython",
    "version": 3
   },
   "file_extension": ".py",
   "mimetype": "text/x-python",
   "name": "python",
   "nbconvert_exporter": "python",
   "pygments_lexer": "ipython3",
   "version": "3.10.16"
  }
 },
 "nbformat": 4,
 "nbformat_minor": 5
}
