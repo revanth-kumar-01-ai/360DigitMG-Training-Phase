{
 "cells": [
  {
   "cell_type": "markdown",
   "id": "5c3cf37b",
   "metadata": {},
   "source": [
    "#### 1. What is a primary key in a database table, and why is it important in data modeling?\n",
    "\n",
    "**primary key 🔑**  \n",
    "A **primary key** is a unique ID for each row in a table.  \n",
    "👉 It helps to **identify records easily** and **no duplicate or null values** allowed."
   ]
  },
  {
   "cell_type": "markdown",
   "id": "8ce70e1d",
   "metadata": {},
   "source": [
    "#### 2. Explain the differences between a one-to-one, one-to-many, and many-to-many relationship in database modeling, providing examples for each.\n",
    "\n",
    "\n",
    "**Types of relationships in DB: 🔗**\n",
    "\n",
    "- **One-to-One (1:1)**  \n",
    "  One person 👉 one passport  \n",
    "  (Each has only one)\n",
    "\n",
    "- **One-to-Many (1:N)**  \n",
    "  One teacher 👉 many students  \n",
    "  (One item connects to many)\n",
    "\n",
    "- **Many-to-Many (M:N)**  \n",
    "  Students ↔ Courses  \n",
    "  (One student can join many courses, and one course has many students)"
   ]
  },
  {
   "cell_type": "markdown",
   "id": "12510667",
   "metadata": {},
   "source": [
    "#### 3. What is normalization in the context of database design, and why is it important?\n",
    "\n",
    "**normalization 📦**  \n",
    "It is a method to **organize data** to reduce **duplicate values**.  \n",
    "👉 Keeps data clean, saves space, and increases efficiency."
   ]
  },
  {
   "cell_type": "markdown",
   "id": "5de79d0a",
   "metadata": {},
   "source": [
    "#### 4. Describe the concept of foreign keys in SQL databases and their role in maintaining referential integrity.\n",
    "\n",
    "**foreign key 🌍**  \n",
    "A **foreign key** is a field in one table that **connects** to the **primary key** of another.  \n",
    "👉 It **links tables** and helps to keep **data valid** (referential integrity)."
   ]
  },
  {
   "cell_type": "markdown",
   "id": "61794a3e",
   "metadata": {},
   "source": [
    "\n",
    "#### 5. How do you decide whether to use a relational database model or a NoSQL model when designing a new database system? Provide examples of scenarios where each might be more suitable.\n",
    "\n",
    "**Relational vs NoSQL 🤔**\n",
    "\n",
    "- **Relational DB (SQL)** – Use when **data is structured**, and you need **joins or complex queries**.  \n",
    "  🧾 Example: Banking, Inventory, Student records"
   ]
  }
 ],
 "metadata": {
  "language_info": {
   "name": "python"
  }
 },
 "nbformat": 4,
 "nbformat_minor": 5
}
