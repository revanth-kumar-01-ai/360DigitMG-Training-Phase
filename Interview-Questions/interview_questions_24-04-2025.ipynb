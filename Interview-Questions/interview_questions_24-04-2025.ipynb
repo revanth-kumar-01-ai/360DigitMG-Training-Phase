{
 "cells": [
  {
   "cell_type": "markdown",
   "id": "7384ef8b",
   "metadata": {},
   "source": [
    "# Interview Question \n",
    "\n",
    "**24-04-2025**"
   ]
  },
  {
   "cell_type": "markdown",
   "id": "a721d72f",
   "metadata": {},
   "source": [
    "**1. Can you explain the concept of query execution plans and how they can be \n",
    "analyzed and optimized?**\n",
    "\n",
    "### 🧠 Query Execution Plan (QEP):\n",
    "\n",
    "It's a step-by-step map of **how SQL runs your query**.\n",
    "\n",
    "\n",
    "### 🔍 Analyze:\n",
    "\n",
    "* Use `EXPLAIN`\n",
    "* Shows: index use, join type, cost, rows\n",
    "\n",
    "### ⚡ Optimize:\n",
    "\n",
    "* Use **indexes** 📌\n",
    "* Avoid **full scans** 🚫\n",
    "* Write **efficient joins** 🔗\n",
    "* Select only **needed columns/rows** 🎯"
   ]
  },
  {
   "cell_type": "markdown",
   "id": "dfd5bd02",
   "metadata": {},
   "source": [
    "**2. What are the three degrees of normalization and how is normalization done in \n",
    "each degree?**\n",
    "\n",
    "* **1NF** ➡️ No repeats, atomic values\n",
    "* **2NF** ➡️ No partial dependency\n",
    "* **3NF** ➡️ No transitive dependency\n",
    "\n",
    "🎯 Used to remove duplicates & keep clean data!"
   ]
  },
  {
   "cell_type": "markdown",
   "id": "2c55a886",
   "metadata": {},
   "source": [
    "**3. Can you explain a scenario where using derived columns can improve query performance?**\n",
    "\n",
    "**Derived columns** (calculated in `SELECT`) can **avoid recalculating** values many times in complex queries.\n",
    "\n",
    "📌 **Example**:\n",
    "If you're calculating `price * quantity` multiple times, use:\n",
    "\n",
    "```sql\n",
    "SELECT price * quantity AS total_price\n",
    "FROM orders\n",
    "```\n",
    "\n",
    "🎯 So now you reuse `total_price` easily in filters or GROUP BY — this **boosts performance** 💥 and makes code clean ✅"
   ]
  },
  {
   "cell_type": "markdown",
   "id": "5a888eed",
   "metadata": {},
   "source": [
    "**4. What are the differences between OLTP and OLAP?Can you provide an \n",
    "example of a real-world application that requires OLTP processing and \n",
    "another that requires OLAP processing?**\n",
    "\n",
    "| Feature    | OLTP ⚙️                     | OLAP 📊                        |\n",
    "| ---------- | --------------------------- | ------------------------------ |\n",
    "| Purpose    | Day-to-day transactions     | Data analysis & reporting      |\n",
    "| Data type  | Real-time, current data     | Historical, aggregated data    |\n",
    "| Operations | INSERT, UPDATE, DELETE      | SELECT, GROUP BY, JOIN         |\n",
    "| Speed      | Very fast for small queries | Slower but handles big queries |\n",
    "| Example    | ATM system 💳               | Sales dashboard 📈             |\n",
    "\n",
    "✅ **OLTP Example**: E-commerce checkout system 🛒\n",
    "\n",
    "✅ **OLAP Example**: Business Intelligence tool for monthly sales trends 📉"
   ]
  },
  {
   "cell_type": "markdown",
   "id": "439e080e",
   "metadata": {},
   "source": [
    "**5. How would you determine which type of join to use based on the \n",
    "requirements of a specific query?**\n",
    "\n",
    "* **INNER JOIN** – Only matching rows ✅\n",
    "\n",
    "* **LEFT JOIN** – All from left + matching right 👈\n",
    "\n",
    "* **RIGHT JOIN** – All from right + matching left 👉\n",
    "\n",
    "* **FULL JOIN** – All rows from both, matched/unmatched 🔁\n"
   ]
  },
  {
   "cell_type": "markdown",
   "id": "1806865b",
   "metadata": {},
   "source": [
    "**6. How to delete DUPLICATE records  from a table Using ROWID and \n",
    "ROW_NUMBER  Analytic Function?**\n",
    "\n",
    "```sql\n",
    "DELETE FROM (\n",
    "  SELECT ROWID AS rid,\n",
    "         ROW_NUMBER() OVER (PARTITION BY column1, column2 ORDER BY ROWID) AS rn\n",
    "  FROM your_table\n",
    ")\n",
    "WHERE rn > 1;\n",
    "```"
   ]
  },
  {
   "cell_type": "markdown",
   "id": "8c23a1b0",
   "metadata": {},
   "source": [
    "# PowerBI"
   ]
  },
  {
   "cell_type": "markdown",
   "id": "2dc948e1",
   "metadata": {},
   "source": [
    "**1. How can you create a slicer in Power BI that dynamically filters multiple \n",
    "visuals?**\n",
    "\n",
    "1. **Add slicer** ➡️ Drag a field to the *Slicer* visual.\n",
    "\n",
    "2. **Sync visuals** ➡️ Make sure all visuals use the same field.\n",
    "\n",
    "3. **Cross filter** ➡️ Go to *Format* ➝ *Edit Interactions* to control how visuals respond."
   ]
  },
  {
   "cell_type": "markdown",
   "id": "9ae40881",
   "metadata": {},
   "source": [
    "**2. When would you choose to use Power BI DirectQuery mode instead of Import \n",
    "mode?**\n",
    "\n",
    "use **DirectQuery** when ⏬:\n",
    "\n",
    "⚡ **Live data** needed (real-time updates)\n",
    "\n",
    "💾 **Large datasets** (too big to import)\n",
    "\n",
    "🔐 **Data security rules** must stay on source\n",
    "\n",
    "🕐 Want **less refresh** scheduling\n",
    "\n",
    "\n"
   ]
  },
  {
   "cell_type": "markdown",
   "id": "cd7ae3b5",
   "metadata": {},
   "source": []
  }
 ],
 "metadata": {
  "language_info": {
   "name": "python"
  }
 },
 "nbformat": 4,
 "nbformat_minor": 5
}
