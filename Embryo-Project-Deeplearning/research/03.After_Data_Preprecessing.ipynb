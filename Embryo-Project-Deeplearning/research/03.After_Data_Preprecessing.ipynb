{
 "cells": [
  {
   "cell_type": "markdown",
   "id": "3525faf1",
   "metadata": {},
   "source": [
    "## After Exploratory Data Analysis \n",
    "\n",
    "Basic check \n",
    "- shape \n",
    "- Duplicate \n",
    "- Missing values\n",
    "- Range 0 to 1 \n",
    "- Gray scale\n",
    "- Output count balanced or not"
   ]
  },
  {
   "cell_type": "code",
   "execution_count": 1,
   "id": "6126bae1",
   "metadata": {},
   "outputs": [],
   "source": [
    "# import necessary libraries \n",
    "\n",
    "import pandas as pd \n",
    "import numpy as np\n",
    "\n",
    "# Data visualization\n",
    "import seaborn as sns\n",
    "import matplotlib.pyplot as plt\n",
    "\n",
    "# OS utilities\n",
    "import os"
   ]
  },
  {
   "cell_type": "markdown",
   "id": "217bfa24",
   "metadata": {},
   "source": [
    "**Load the train dataset**"
   ]
  },
  {
   "cell_type": "code",
   "execution_count": 2,
   "id": "19cb4c23",
   "metadata": {},
   "outputs": [],
   "source": [
    "data = np.load(\"../artifacts/data_ingestion/Preprocessed Dataset/train_data.npz\")\n",
    "\n",
    "X_train = data['arr_0']\n",
    "y_train = data['arr_1']"
   ]
  },
  {
   "cell_type": "markdown",
   "id": "3616f97b",
   "metadata": {},
   "source": [
    "**Check the shape**"
   ]
  },
  {
   "cell_type": "code",
   "execution_count": 3,
   "id": "339587b0",
   "metadata": {},
   "outputs": [
    {
     "name": "stdout",
     "output_type": "stream",
     "text": [
      "Shape of X_train: (8621, 224, 224, 3)\n"
     ]
    }
   ],
   "source": [
    "print(f\"Shape of X_train: {X_train.shape}\")"
   ]
  },
  {
   "cell_type": "markdown",
   "id": "3ea541d9",
   "metadata": {},
   "source": [
    "**Check for duplicates (using pandas for better control)**"
   ]
  },
  {
   "cell_type": "code",
   "execution_count": 4,
   "id": "b4c7d1da",
   "metadata": {},
   "outputs": [
    {
     "name": "stdout",
     "output_type": "stream",
     "text": [
      "✅ No duplicate images and labels.\n"
     ]
    }
   ],
   "source": [
    "flag = 1\n",
    "seen_images = set() \n",
    "\n",
    "for img, label in zip(X_train, y_train):\n",
    "    img_hash = hash(img.tobytes()) \n",
    "\n",
    "    if img_hash in seen_images:\n",
    "        print(f\"❌ Duplicated image found with label {label}\")\n",
    "        flag = 0 \n",
    "    else:\n",
    "        seen_images.add(img_hash)\n",
    "\n",
    "\n",
    "if flag == 1:\n",
    "    print(f\"✅ No duplicate images and labels.\")"
   ]
  },
  {
   "cell_type": "markdown",
   "id": "3a77595c",
   "metadata": {},
   "source": [
    "**check the missing values**"
   ]
  },
  {
   "cell_type": "code",
   "execution_count": 5,
   "id": "2307b8e1",
   "metadata": {},
   "outputs": [
    {
     "name": "stdout",
     "output_type": "stream",
     "text": [
      "Number of missing values in X_train: 0\n"
     ]
    }
   ],
   "source": [
    "missing_values = np.sum(np.isnan(X_train))\n",
    "\n",
    "print(f\"Number of missing values in X_train: {missing_values}\")"
   ]
  },
  {
   "cell_type": "markdown",
   "id": "be84bff6",
   "metadata": {},
   "source": [
    "**Check if values are in range [0, 1]**"
   ]
  },
  {
   "cell_type": "code",
   "execution_count": 6,
   "id": "f1d729ab",
   "metadata": {},
   "outputs": [
    {
     "name": "stdout",
     "output_type": "stream",
     "text": [
      "Some values in X_train are outside the range [0, 1].\n"
     ]
    }
   ],
   "source": [
    "if np.all((X_train >= 0) & (X_train <= 1)):\n",
    "    print(\"All values in X_train are in the range [0, 1].\")\n",
    "else:\n",
    "    print(\"Some values in X_train are outside the range [0, 1].\")"
   ]
  },
  {
   "cell_type": "markdown",
   "id": "111ef4e3",
   "metadata": {},
   "source": [
    "**check all image RGB**"
   ]
  },
  {
   "cell_type": "code",
   "execution_count": 7,
   "id": "5c8bc6bb",
   "metadata": {},
   "outputs": [
    {
     "name": "stdout",
     "output_type": "stream",
     "text": [
      "All images are RGB.\n"
     ]
    }
   ],
   "source": [
    "flag = 1  \n",
    "\n",
    "for img in X_train:\n",
    "    if not (img.ndim == 2 or (img.ndim == 3 and img.shape[2] == 1)):  \n",
    "        flag = 0 \n",
    "        break  \n",
    "\n",
    "if flag == 0:\n",
    "    print(\"All images are RGB.\")\n",
    "else:\n",
    "    print(\"All images are grayscale.\")"
   ]
  },
  {
   "cell_type": "code",
   "execution_count": 8,
   "id": "37cbecab",
   "metadata": {},
   "outputs": [
    {
     "data": {
      "text/plain": [
       "Morula Grade A        900\n",
       "Morula Grade B        900\n",
       "Morula Grade C        900\n",
       "Error Images          899\n",
       "Blastocyst Grade C    893\n",
       "Blastocyst Grade B    881\n",
       "Blastocyst Grade A    876\n",
       "8-cell Grade A        802\n",
       "8-cell Grade C        796\n",
       "8-cell Grade B        774\n",
       "Name: count, dtype: int64"
      ]
     },
     "execution_count": 8,
     "metadata": {},
     "output_type": "execute_result"
    }
   ],
   "source": [
    "# output count \n",
    "\n",
    "pd.Series(y_train).value_counts()"
   ]
  },
  {
   "cell_type": "code",
   "execution_count": null,
   "id": "ed3ff2e7",
   "metadata": {},
   "outputs": [],
   "source": []
  },
  {
   "cell_type": "code",
   "execution_count": null,
   "id": "bbf1a189",
   "metadata": {},
   "outputs": [],
   "source": []
  }
 ],
 "metadata": {
  "kernelspec": {
   "display_name": "Deep",
   "language": "python",
   "name": "python3"
  },
  "language_info": {
   "codemirror_mode": {
    "name": "ipython",
    "version": 3
   },
   "file_extension": ".py",
   "mimetype": "text/x-python",
   "name": "python",
   "nbconvert_exporter": "python",
   "pygments_lexer": "ipython3",
   "version": "3.10.17"
  }
 },
 "nbformat": 4,
 "nbformat_minor": 5
}
