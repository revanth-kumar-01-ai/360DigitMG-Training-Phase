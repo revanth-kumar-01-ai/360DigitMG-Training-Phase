{
 "cells": [
  {
   "cell_type": "markdown",
   "metadata": {},
   "source": [
    "# Model Evaluation The Best Model "
   ]
  },
  {
   "cell_type": "code",
   "execution_count": 3,
   "metadata": {
    "execution": {
     "iopub.execute_input": "2025-04-24T07:12:03.294513Z",
     "iopub.status.busy": "2025-04-24T07:12:03.293966Z",
     "iopub.status.idle": "2025-04-24T07:12:22.585617Z",
     "shell.execute_reply": "2025-04-24T07:12:22.584886Z",
     "shell.execute_reply.started": "2025-04-24T07:12:03.294490Z"
    },
    "trusted": true
   },
   "outputs": [],
   "source": [
    "# 📦 Basic Libraries\n",
    "import os\n",
    "import zipfile\n",
    "import gdown\n",
    "import numpy as np\n",
    "import pandas as pd\n",
    "import matplotlib.pyplot as plt\n",
    "import seaborn as sns\n",
    "from PIL import Image\n",
    "\n",
    "# 🎯 Sklearn - Evaluation\n",
    "from sklearn.metrics import accuracy_score, classification_report\n",
    "from sklearn.model_selection import KFold\n",
    "\n",
    "# 🔥 PyTorch + timm\n",
    "import torch\n",
    "import torch.nn as nn\n",
    "import torch.optim as optim\n",
    "from torch.utils.data import DataLoader, Subset\n",
    "from torchvision import datasets, transforms\n",
    "import timm\n",
    "\n",
    "# ⚙️ ONNX Runtime\n",
    "import onnxruntime as ort"
   ]
  },
  {
   "cell_type": "markdown",
   "metadata": {},
   "source": [
    "# load the  model"
   ]
  },
  {
   "cell_type": "code",
   "execution_count": 5,
   "metadata": {
    "execution": {
     "iopub.execute_input": "2025-04-24T07:18:24.285473Z",
     "iopub.status.busy": "2025-04-24T07:18:24.284932Z",
     "iopub.status.idle": "2025-04-24T07:18:24.373614Z",
     "shell.execute_reply": "2025-04-24T07:18:24.372892Z",
     "shell.execute_reply.started": "2025-04-24T07:18:24.285451Z"
    },
    "trusted": true
   },
   "outputs": [
    {
     "data": {
      "text/plain": [
       "device(type='cuda')"
      ]
     },
     "execution_count": 5,
     "metadata": {},
     "output_type": "execute_result"
    }
   ],
   "source": [
    "# This for using gpu or cpu\n",
    "device = torch.device(\"cuda\" if torch.cuda.is_available() else \"cpu\")\n",
    "\n",
    "device"
   ]
  },
  {
   "cell_type": "code",
   "execution_count": 6,
   "metadata": {
    "execution": {
     "iopub.execute_input": "2025-04-24T07:18:26.943442Z",
     "iopub.status.busy": "2025-04-24T07:18:26.943131Z",
     "iopub.status.idle": "2025-04-24T07:18:27.586511Z",
     "shell.execute_reply": "2025-04-24T07:18:27.585931Z",
     "shell.execute_reply.started": "2025-04-24T07:18:26.943421Z"
    },
    "trusted": true
   },
   "outputs": [
    {
     "name": "stdout",
     "output_type": "stream",
     "text": [
      "model sucessfully loaded ✅\n"
     ]
    }
   ],
   "source": [
    "# model \n",
    "model = timm.create_model('efficientvit_b2.r288_in1k', pretrained=True)\n",
    "model.to(device)\n",
    "\n",
    "print(\"model sucessfully loaded ✅\")"
   ]
  },
  {
   "cell_type": "markdown",
   "metadata": {},
   "source": [
    "**Training Dataset**"
   ]
  },
  {
   "cell_type": "code",
   "execution_count": 10,
   "metadata": {
    "execution": {
     "iopub.execute_input": "2025-04-24T07:22:42.458441Z",
     "iopub.status.busy": "2025-04-24T07:22:42.457922Z",
     "iopub.status.idle": "2025-04-24T07:22:42.461918Z",
     "shell.execute_reply": "2025-04-24T07:22:42.461233Z",
     "shell.execute_reply.started": "2025-04-24T07:22:42.458418Z"
    },
    "trusted": true
   },
   "outputs": [],
   "source": [
    "# data prepprocessing \n",
    "\n",
    "transform = transforms.Compose([\n",
    "    transforms.Resize((288, 288)),      \n",
    "    transforms.ToTensor(),              \n",
    "])"
   ]
  },
  {
   "cell_type": "code",
   "execution_count": 22,
   "metadata": {
    "execution": {
     "iopub.execute_input": "2025-04-24T07:32:51.035685Z",
     "iopub.status.busy": "2025-04-24T07:32:51.035098Z",
     "iopub.status.idle": "2025-04-24T07:33:48.558382Z",
     "shell.execute_reply": "2025-04-24T07:33:48.557590Z",
     "shell.execute_reply.started": "2025-04-24T07:32:51.035663Z"
    },
    "trusted": true
   },
   "outputs": [
    {
     "name": "stderr",
     "output_type": "stream",
     "text": [
      "/tmp/ipykernel_31/3893677420.py:1: FutureWarning: You are using `torch.load` with `weights_only=False` (the current default value), which uses the default pickle module implicitly. It is possible to construct malicious pickle data which will execute arbitrary code during unpickling (See https://github.com/pytorch/pytorch/blob/main/SECURITY.md#untrusted-models for more details). In a future release, the default value for `weights_only` will be flipped to `True`. This limits the functions that could be executed during unpickling. Arbitrary objects will no longer be allowed to be loaded via this mode unless they are explicitly allowlisted by the user via `torch.serialization.add_safe_globals`. We recommend you start setting `weights_only=True` for any use case where you don't have full control of the loaded file. Please open an issue on GitHub for any issues related to this experimental feature.\n",
      "  model.load_state_dict(torch.load(\"/kaggle/input/efficientvit/pytorch/v1/1/best_model.pth\"))\n"
     ]
    },
    {
     "name": "stdout",
     "output_type": "stream",
     "text": [
      "\n",
      "🧪 Test Accuracy: 0.9926\n"
     ]
    }
   ],
   "source": [
    "model.load_state_dict(torch.load(\"/kaggle/input/efficientvit/pytorch/v1/1/best_model.pth\"))\n",
    "model.eval()\n",
    "\n",
    "# Load test set\n",
    "train_dataset = datasets.ImageFolder(root='/kaggle/working/train_data/X_train_image', transform=transform)\n",
    "train_loader = DataLoader(train_dataset, batch_size=32, shuffle=False)\n",
    "\n",
    "# Evaluate\n",
    "correct, total = 0, 0\n",
    "with torch.no_grad():\n",
    "    for imgs, labels in train_loader:\n",
    "        imgs, labels = imgs.to(device), labels.to(device)\n",
    "        outputs = model(imgs)\n",
    "        _, preds = torch.max(outputs, 1)\n",
    "        correct += (preds == labels).sum().item()\n",
    "        total += labels.size(0)\n",
    "\n",
    "print(f\"\\n🧪 Test Accuracy: {correct / total:.4f}\")"
   ]
  },
  {
   "cell_type": "markdown",
   "metadata": {},
   "source": [
    "**TestData Dataset**"
   ]
  },
  {
   "cell_type": "code",
   "execution_count": 23,
   "metadata": {
    "execution": {
     "iopub.execute_input": "2025-04-24T07:34:28.005263Z",
     "iopub.status.busy": "2025-04-24T07:34:28.004692Z",
     "iopub.status.idle": "2025-04-24T07:34:34.078475Z",
     "shell.execute_reply": "2025-04-24T07:34:34.077884Z",
     "shell.execute_reply.started": "2025-04-24T07:34:28.005240Z"
    },
    "trusted": true
   },
   "outputs": [
    {
     "name": "stderr",
     "output_type": "stream",
     "text": [
      "/tmp/ipykernel_31/266595089.py:1: FutureWarning: You are using `torch.load` with `weights_only=False` (the current default value), which uses the default pickle module implicitly. It is possible to construct malicious pickle data which will execute arbitrary code during unpickling (See https://github.com/pytorch/pytorch/blob/main/SECURITY.md#untrusted-models for more details). In a future release, the default value for `weights_only` will be flipped to `True`. This limits the functions that could be executed during unpickling. Arbitrary objects will no longer be allowed to be loaded via this mode unless they are explicitly allowlisted by the user via `torch.serialization.add_safe_globals`. We recommend you start setting `weights_only=True` for any use case where you don't have full control of the loaded file. Please open an issue on GitHub for any issues related to this experimental feature.\n",
      "  model.load_state_dict(torch.load(\"/kaggle/input/efficientvit/pytorch/v1/1/best_model.pth\"))\n"
     ]
    },
    {
     "name": "stdout",
     "output_type": "stream",
     "text": [
      "\n",
      "🧪 Test Accuracy: 0.9572\n"
     ]
    }
   ],
   "source": [
    "model.load_state_dict(torch.load(\"/kaggle/input/efficientvit/pytorch/v1/1/best_model.pth\"))\n",
    "model.eval()\n",
    "\n",
    "# Load test set\n",
    "test_dataset = datasets.ImageFolder(root='/kaggle/working/test_data/X_test_image', transform=transform)\n",
    "test_loader = DataLoader(test_dataset, batch_size=32, shuffle=False)\n",
    "\n",
    "# Evaluate\n",
    "correct, total = 0, 0\n",
    "with torch.no_grad():\n",
    "    for imgs, labels in test_loader:\n",
    "        imgs, labels = imgs.to(device), labels.to(device)\n",
    "        outputs = model(imgs)\n",
    "        _, preds = torch.max(outputs, 1)\n",
    "        correct += (preds == labels).sum().item()\n",
    "        total += labels.size(0)\n",
    "\n",
    "print(f\"\\n🧪 Test Accuracy: {correct / total:.4f}\")"
   ]
  },
  {
   "cell_type": "markdown",
   "metadata": {},
   "source": [
    "# classification report "
   ]
  },
  {
   "cell_type": "code",
   "execution_count": 25,
   "metadata": {
    "execution": {
     "iopub.execute_input": "2025-04-24T07:39:21.646990Z",
     "iopub.status.busy": "2025-04-24T07:39:21.646702Z",
     "iopub.status.idle": "2025-04-24T07:39:27.503770Z",
     "shell.execute_reply": "2025-04-24T07:39:27.503044Z",
     "shell.execute_reply.started": "2025-04-24T07:39:21.646969Z"
    },
    "trusted": true
   },
   "outputs": [
    {
     "name": "stdout",
     "output_type": "stream",
     "text": [
      "\n",
      "📊 Classification Report:\n",
      "\n",
      "                    precision    recall  f1-score   support\n",
      "\n",
      "    8-cell Grade A       0.98      0.97      0.97        89\n",
      "    8-cell Grade B       0.94      0.94      0.94        86\n",
      "    8-cell Grade C       0.95      0.94      0.95        89\n",
      "Blastocyst Grade A       0.92      1.00      0.96        97\n",
      "Blastocyst Grade B       0.99      0.85      0.91        98\n",
      "Blastocyst Grade C       0.92      0.98      0.95        99\n",
      "      Error Images       1.00      1.00      1.00       100\n",
      "    Morula Grade A       0.94      0.97      0.96       100\n",
      "    Morula Grade B       0.96      0.95      0.95       100\n",
      "    Morula Grade C       0.98      0.97      0.97       100\n",
      "\n",
      "          accuracy                           0.96       958\n",
      "         macro avg       0.96      0.96      0.96       958\n",
      "      weighted avg       0.96      0.96      0.96       958\n",
      "\n"
     ]
    }
   ],
   "source": [
    "# Store true & predicted labels\n",
    "y_true = []\n",
    "y_pred = []\n",
    "\n",
    "with torch.no_grad():\n",
    "    for imgs, labels in test_loader:\n",
    "        imgs = imgs.to(device)\n",
    "        outputs = model(imgs)\n",
    "        _, preds = torch.max(outputs, 1)\n",
    "        y_true.extend(labels.cpu().numpy())\n",
    "        y_pred.extend(preds.cpu().numpy())\n",
    "\n",
    "# Show classification report\n",
    "class_names = test_dataset.classes\n",
    "print(\"\\n📊 Classification Report:\\n\")\n",
    "print(classification_report(y_true, y_pred, target_names=class_names))"
   ]
  },
  {
   "cell_type": "markdown",
   "metadata": {},
   "source": [
    "### cross validation for train dataset"
   ]
  },
  {
   "cell_type": "code",
   "execution_count": 26,
   "metadata": {
    "execution": {
     "iopub.execute_input": "2025-04-24T07:47:40.208605Z",
     "iopub.status.busy": "2025-04-24T07:47:40.207926Z",
     "iopub.status.idle": "2025-04-24T07:48:33.668420Z",
     "shell.execute_reply": "2025-04-24T07:48:33.667557Z",
     "shell.execute_reply.started": "2025-04-24T07:47:40.208584Z"
    },
    "trusted": true
   },
   "outputs": [
    {
     "name": "stdout",
     "output_type": "stream",
     "text": [
      "\n",
      "🔁 Fold 1/5\n"
     ]
    },
    {
     "name": "stderr",
     "output_type": "stream",
     "text": [
      "/tmp/ipykernel_31/2453849207.py:26: FutureWarning: You are using `torch.load` with `weights_only=False` (the current default value), which uses the default pickle module implicitly. It is possible to construct malicious pickle data which will execute arbitrary code during unpickling (See https://github.com/pytorch/pytorch/blob/main/SECURITY.md#untrusted-models for more details). In a future release, the default value for `weights_only` will be flipped to `True`. This limits the functions that could be executed during unpickling. Arbitrary objects will no longer be allowed to be loaded via this mode unless they are explicitly allowlisted by the user via `torch.serialization.add_safe_globals`. We recommend you start setting `weights_only=True` for any use case where you don't have full control of the loaded file. Please open an issue on GitHub for any issues related to this experimental feature.\n",
      "  model.load_state_dict(torch.load(\"/kaggle/input/efficientvit/pytorch/v1/1/best_model.pth\"))  # 🔥 Your trained weights\n"
     ]
    },
    {
     "name": "stdout",
     "output_type": "stream",
     "text": [
      "✅ Fold 1 Accuracy: 0.9919\n",
      "\n",
      "🔁 Fold 2/5\n",
      "✅ Fold 2 Accuracy: 0.9907\n",
      "\n",
      "🔁 Fold 3/5\n",
      "✅ Fold 3 Accuracy: 0.9919\n",
      "\n",
      "🔁 Fold 4/5\n",
      "✅ Fold 4 Accuracy: 0.9948\n",
      "\n",
      "🔁 Fold 5/5\n",
      "✅ Fold 5 Accuracy: 0.9936\n",
      "\n",
      "📊 Cross Validation Accuracy\n",
      "Mean: 0.99257634755708  | Std: 0.0014391832525461085\n"
     ]
    }
   ],
   "source": [
    "# Dataset\n",
    "dataset = datasets.ImageFolder(root='/kaggle/working/train_data/X_train_image', transform=transform)\n",
    "\n",
    "# KFold setup\n",
    "kfold = KFold(n_splits=5, shuffle=True)\n",
    "fold_results = []\n",
    "\n",
    "for fold, (train_idx, val_idx) in enumerate(kfold.split(dataset)):\n",
    "    print(f\"\\n🔁 Fold {fold+1}/5\")\n",
    "\n",
    "    train_data = Subset(dataset, train_idx)\n",
    "    val_data = Subset(dataset, val_idx)\n",
    "\n",
    "    train_loader = DataLoader(train_data, batch_size=32, shuffle=True)\n",
    "    val_loader = DataLoader(val_data, batch_size=32, shuffle=False)\n",
    "\n",
    "    # Load model\n",
    "    # model = timm.create_model(\"efficientvit_b0\", pretrained=False, num_classes=10)\n",
    "    model.load_state_dict(torch.load(\"/kaggle/input/efficientvit/pytorch/v1/1/best_model.pth\"))  # 🔥 Your trained weights\n",
    "    model.to(device)\n",
    "\n",
    "    # Evaluate only (no training needed)\n",
    "    model.eval()\n",
    "    correct, total = 0, 0\n",
    "    with torch.no_grad():\n",
    "        for imgs, labels in val_loader:\n",
    "            imgs, labels = imgs.to(device), labels.to(device)\n",
    "            outputs = model(imgs)\n",
    "            _, preds = torch.max(outputs, 1)\n",
    "            correct += (preds == labels).sum().item()\n",
    "            total += labels.size(0)\n",
    "\n",
    "    acc = correct / total\n",
    "    print(f\"✅ Fold {fold+1} Accuracy: {acc:.4f}\")\n",
    "    fold_results.append(acc)\n",
    "\n",
    "# Final results\n",
    "print(\"\\n📊 Cross Validation Accuracy\")\n",
    "print(\"Mean:\", np.mean(fold_results), \" | Std:\", np.std(fold_results))\n"
   ]
  },
  {
   "cell_type": "markdown",
   "metadata": {},
   "source": [
    "### cross validation for test dataset"
   ]
  },
  {
   "cell_type": "code",
   "execution_count": 27,
   "metadata": {
    "execution": {
     "iopub.execute_input": "2025-04-24T07:51:38.846725Z",
     "iopub.status.busy": "2025-04-24T07:51:38.845962Z",
     "iopub.status.idle": "2025-04-24T07:51:45.551349Z",
     "shell.execute_reply": "2025-04-24T07:51:45.550459Z",
     "shell.execute_reply.started": "2025-04-24T07:51:38.846700Z"
    },
    "trusted": true
   },
   "outputs": [
    {
     "name": "stdout",
     "output_type": "stream",
     "text": [
      "\n",
      "🔁 Fold 1/5\n"
     ]
    },
    {
     "name": "stderr",
     "output_type": "stream",
     "text": [
      "/tmp/ipykernel_31/2273692423.py:19: FutureWarning: You are using `torch.load` with `weights_only=False` (the current default value), which uses the default pickle module implicitly. It is possible to construct malicious pickle data which will execute arbitrary code during unpickling (See https://github.com/pytorch/pytorch/blob/main/SECURITY.md#untrusted-models for more details). In a future release, the default value for `weights_only` will be flipped to `True`. This limits the functions that could be executed during unpickling. Arbitrary objects will no longer be allowed to be loaded via this mode unless they are explicitly allowlisted by the user via `torch.serialization.add_safe_globals`. We recommend you start setting `weights_only=True` for any use case where you don't have full control of the loaded file. Please open an issue on GitHub for any issues related to this experimental feature.\n",
      "  model.load_state_dict(torch.load(\"/kaggle/input/efficientvit/pytorch/v1/1/best_model.pth\"))  # 🔥 Your trained weights\n"
     ]
    },
    {
     "name": "stdout",
     "output_type": "stream",
     "text": [
      "✅ Fold 1 Accuracy: 0.9479\n",
      "\n",
      "🔁 Fold 2/5\n",
      "✅ Fold 2 Accuracy: 0.9635\n",
      "\n",
      "🔁 Fold 3/5\n",
      "✅ Fold 3 Accuracy: 0.9427\n",
      "\n",
      "🔁 Fold 4/5\n",
      "✅ Fold 4 Accuracy: 0.9581\n",
      "\n",
      "🔁 Fold 5/5\n",
      "✅ Fold 5 Accuracy: 0.9738\n",
      "\n",
      "📊 Cross Validation Accuracy\n",
      "Mean: 0.9572207678883071  | Std: 0.011077286277875407\n"
     ]
    }
   ],
   "source": [
    "# Dataset\n",
    "dataset = datasets.ImageFolder(root='/kaggle/working/test_data/X_test_image', transform=transform)\n",
    "\n",
    "# KFold setup\n",
    "kfold = KFold(n_splits=5, shuffle=True)\n",
    "fold_results = []\n",
    "\n",
    "for fold, (train_idx, val_idx) in enumerate(kfold.split(dataset)):\n",
    "    print(f\"\\n🔁 Fold {fold+1}/5\")\n",
    "\n",
    "    train_data = Subset(dataset, train_idx)\n",
    "    val_data = Subset(dataset, val_idx)\n",
    "\n",
    "    train_loader = DataLoader(train_data, batch_size=32, shuffle=True)\n",
    "    val_loader = DataLoader(val_data, batch_size=32, shuffle=False)\n",
    "\n",
    "    # Load model\n",
    "    # model = timm.create_model(\"efficientvit_b0\", pretrained=False, num_classes=10)\n",
    "    model.load_state_dict(torch.load(\"/kaggle/input/efficientvit/pytorch/v1/1/best_model.pth\"))  # 🔥 Your trained weights\n",
    "    model.to(device)\n",
    "\n",
    "    # Evaluate only (no training needed)\n",
    "    model.eval()\n",
    "    correct, total = 0, 0\n",
    "    with torch.no_grad():\n",
    "        for imgs, labels in val_loader:\n",
    "            imgs, labels = imgs.to(device), labels.to(device)\n",
    "            outputs = model(imgs)\n",
    "            _, preds = torch.max(outputs, 1)\n",
    "            correct += (preds == labels).sum().item()\n",
    "            total += labels.size(0)\n",
    "\n",
    "    acc = correct / total\n",
    "    print(f\"✅ Fold {fold+1} Accuracy: {acc:.4f}\")\n",
    "    fold_results.append(acc)\n",
    "\n",
    "# Final results\n",
    "print(\"\\n📊 Cross Validation Accuracy\")\n",
    "print(\"Mean:\", np.mean(fold_results), \" | Std:\", np.std(fold_results))\n"
   ]
  },
  {
   "cell_type": "markdown",
   "metadata": {},
   "source": [
    "# Check with new images"
   ]
  },
  {
   "cell_type": "code",
   "execution_count": null,
   "metadata": {
    "trusted": true
   },
   "outputs": [],
   "source": [
    "import onnxruntime as ort\n",
    "import numpy as np\n",
    "from PIL import Image\n",
    "import torchvision.transforms as transforms\n",
    "\n",
    "# Load ONNX model\n",
    "session = ort.InferenceSession(\"/kaggle/working/efficientvit_embryo.onnx\")\n",
    "\n",
    "# Define transform\n",
    "transform = transforms.Compose([\n",
    "    transforms.Resize((288, 288)),\n",
    "    transforms.ToTensor(),\n",
    "])\n",
    "\n",
    "# Load image and preprocess\n",
    "img = Image.open(\"/kaggle/working/test_data/X_test_image/Morula Grade C/image_233.jpg\").convert(\"RGB\")\n",
    "img_tensor = transform(img).unsqueeze(0).numpy()  # shape: [1, 3, 288, 288]\n",
    "\n",
    "# Class names\n",
    "class_names = [\n",
    "    '8-cell Grade A', '8-cell Grade B', '8-cell Grade C',\n",
    "    'Blastocyst Grade A', 'Blastocyst Grade B', 'Blastocyst Grade C',\n",
    "    'Error Images', 'Morula Grade A', 'Morula Grade B', 'Morula Grade C'\n",
    "]\n",
    "\n",
    "# Run model\n",
    "outputs = session.run(None, {\"input\": img_tensor})\n",
    "logits = outputs[0]\n",
    "\n",
    "# Apply softmax\n",
    "probs = np.exp(logits) / np.sum(np.exp(logits))\n",
    "pred_class = np.argmax(probs)\n",
    "\n",
    "# Show result\n",
    "print(\"✅ Prediction:\", class_names[pred_class])"
   ]
  },
  {
   "cell_type": "markdown",
   "metadata": {
    "execution": {
     "iopub.execute_input": "2025-04-24T08:05:26.103670Z",
     "iopub.status.busy": "2025-04-24T08:05:26.103347Z",
     "iopub.status.idle": "2025-04-24T08:05:26.107797Z",
     "shell.execute_reply": "2025-04-24T08:05:26.107079Z",
     "shell.execute_reply.started": "2025-04-24T08:05:26.103645Z"
    }
   },
   "source": [
    "# Check With New Images"
   ]
  },
  {
   "cell_type": "code",
   "execution_count": 40,
   "metadata": {
    "execution": {
     "iopub.execute_input": "2025-04-24T08:16:28.808487Z",
     "iopub.status.busy": "2025-04-24T08:16:28.808212Z",
     "iopub.status.idle": "2025-04-24T08:16:28.969713Z",
     "shell.execute_reply": "2025-04-24T08:16:28.969025Z",
     "shell.execute_reply.started": "2025-04-24T08:16:28.808467Z"
    },
    "trusted": true
   },
   "outputs": [],
   "source": [
    "# Load ONNX model\n",
    "session = ort.InferenceSession(\"/kaggle/working/efficientvit_embryo_fp16.onnx\")\n",
    "\n",
    "# # Define transform\n",
    "transform = transforms.Compose([\n",
    "    transforms.Resize((288, 288)),\n",
    "    transforms.ToTensor(),\n",
    "])\n",
    "\n",
    "# Class names\n",
    "class_names = [\n",
    "    '8-cell Grade A', '8-cell Grade B', '8-cell Grade C',\n",
    "    'Blastocyst Grade A', 'Blastocyst Grade B', 'Blastocyst Grade C',\n",
    "    'Error Images', 'Morula Grade A', 'Morula Grade B', 'Morula Grade C'\n",
    "]"
   ]
  },
  {
   "cell_type": "code",
   "execution_count": 59,
   "metadata": {
    "execution": {
     "iopub.execute_input": "2025-04-24T08:39:15.117929Z",
     "iopub.status.busy": "2025-04-24T08:39:15.117586Z",
     "iopub.status.idle": "2025-04-24T08:39:15.287516Z",
     "shell.execute_reply": "2025-04-24T08:39:15.286866Z",
     "shell.execute_reply.started": "2025-04-24T08:39:15.117907Z"
    },
    "trusted": true
   },
   "outputs": [
    {
     "name": "stdout",
     "output_type": "stream",
     "text": [
      "✅ Prediction: Error Images\n",
      "📊 Confidence Score: 0.999\n"
     ]
    }
   ],
   "source": [
    " # Load and preprocess image\n",
    "img = Image.open(\"/kaggle/input/demoimages/NewImages/istockphoto-1681388313-612x612.jpg\").convert(\"RGB\")\n",
    "img_tensor = transform(img).unsqueeze(0).numpy().astype(np.float16)\n",
    "\n",
    "# Run inference\n",
    "outputs = session.run(None, {\"input\": img_tensor})\n",
    "logits = outputs[0]\n",
    "\n",
    "# Apply softmax\n",
    "probs = np.exp(logits) / np.sum(np.exp(logits))\n",
    "pred_class = np.argmax(probs)\n",
    "\n",
    "# Print prediction and confidence\n",
    "print(\"✅ Prediction:\", class_names[pred_class])\n",
    "print(\"📊 Confidence Score:\", probs[0][pred_class])\n",
    "\n",
    "# Print all class probabilities\n",
    "# print(\"\\n🔍 Class Probabilities:\")\n",
    "# for i, prob in enumerate(probs[0]):\n",
    "#     print(f\"{class_names[i]}: {prob:.4f}\")"
   ]
  },
  {
   "cell_type": "code",
   "execution_count": 1,
   "metadata": {},
   "outputs": [],
   "source": [
    "import os "
   ]
  },
  {
   "cell_type": "code",
   "execution_count": null,
   "metadata": {},
   "outputs": [],
   "source": []
  }
 ],
 "metadata": {
  "kaggle": {
   "accelerator": "nvidiaTeslaT4",
   "dataSources": [],
   "dockerImageVersionId": 31011,
   "isGpuEnabled": true,
   "isInternetEnabled": true,
   "language": "python",
   "sourceType": "notebook"
  },
  "kernelspec": {
   "display_name": "deep_torch",
   "language": "python",
   "name": "python3"
  },
  "language_info": {
   "codemirror_mode": {
    "name": "ipython",
    "version": 3
   },
   "file_extension": ".py",
   "mimetype": "text/x-python",
   "name": "python",
   "nbconvert_exporter": "python",
   "pygments_lexer": "ipython3",
   "version": "3.10.17"
  }
 },
 "nbformat": 4,
 "nbformat_minor": 4
}
