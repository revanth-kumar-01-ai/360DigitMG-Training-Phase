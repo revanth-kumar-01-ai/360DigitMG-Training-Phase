{
 "cells": [
  {
   "cell_type": "markdown",
   "id": "230963ae",
   "metadata": {},
   "source": [
    "# Start the Project 🤩\n"
   ]
  },
  {
   "cell_type": "markdown",
   "id": "3e750e31",
   "metadata": {},
   "source": [
    "## Step One \n",
    "### Exploratory Data Analysis\n",
    "**Before Data Preprocessing**"
   ]
  },
  {
   "cell_type": "markdown",
   "id": "85fa8d72",
   "metadata": {},
   "source": [
    "-  Image Count & Class Distribution\n",
    "\n",
    "-  Random Image Visualization\n",
    "\n",
    "-  Image Shape / Size / Channels Check\n",
    "\n",
    "- File Format Check (.jpg / .png / etc.)\n",
    "\n",
    "- Missing / Corrupt / Blank Images"
   ]
  },
  {
   "cell_type": "code",
   "execution_count": null,
   "id": "64284be7",
   "metadata": {},
   "outputs": [],
   "source": []
  }
 ],
 "metadata": {
  "kernelspec": {
   "display_name": "AIenv",
   "language": "python",
   "name": "python3"
  },
  "language_info": {
   "codemirror_mode": {
    "name": "ipython",
    "version": 3
   },
   "file_extension": ".py",
   "mimetype": "text/x-python",
   "name": "python",
   "nbconvert_exporter": "python",
   "pygments_lexer": "ipython3",
   "version": "3.10.16"
  }
 },
 "nbformat": 4,
 "nbformat_minor": 5
}
