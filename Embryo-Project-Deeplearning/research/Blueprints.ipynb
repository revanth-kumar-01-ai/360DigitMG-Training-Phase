{
 "cells": [
  {
   "cell_type": "markdown",
   "id": "230963ae",
   "metadata": {},
   "source": [
    "# Start the Project 🤩\n"
   ]
  },
  {
   "cell_type": "markdown",
   "id": "3e750e31",
   "metadata": {},
   "source": [
    "## Step One \n",
    "### Exploratory Data Analysis\n",
    "**Before Data Preprocessing**"
   ]
  },
  {
   "cell_type": "markdown",
   "id": "85fa8d72",
   "metadata": {},
   "source": [
    "-  Image Count & Class Distribution\n",
    "\n",
    "-  Random Image Visualization\n",
    "\n",
    "-  Image Shape / Size / Channels Check\n",
    "\n",
    "- File Format Check (.jpg / .png / etc.)\n",
    "\n",
    "- Missing / Corrupt / Blank Images"
   ]
  },
  {
   "cell_type": "markdown",
   "id": "64284be7",
   "metadata": {},
   "source": [
    "## Step Two\n",
    "###  Data Preprocessing"
   ]
  },
  {
   "cell_type": "markdown",
   "id": "afca8a75",
   "metadata": {},
   "source": [
    "- Image Collection  ✅\n",
    "\n",
    "  Collect all images into one folder and assign clear, correct labels for each image. Make sure everything is well organized ✅🗂️🧠\n",
    "\n",
    "  - Example labels like this\n",
    "   \n",
    "    8-cell Grade A, 8-cell Grade B, 8-cell Grade C, Morula Grade A, Morula Grade B, Morula Grade C, Blastocyst Grade A, Blastocyst Grade B, Blastocyst Grade C, Error Images\n",
    "\n",
    "\n",
    "- Standard Format .png \n",
    "\n",
    "    - I am using standard .png format because this project is medical-related. I chose .png since it ensures no data loss, which is important for accuracy.\" 🧠🩺🖼️\n",
    "\n",
    "      - No quality loss (PNG format is lossless, so image details stay safe)\n",
    "      - Better for analysis (Clear images help AI/ML models work better)\n",
    "      - Trusted in healthcare (Many hospitals use PNG for accurate visuals)\n",
    "\n",
    "- Resize\n",
    "\n",
    "- Convert RGB 👉 Grayscale\n",
    "\n",
    "- Reshape (already changed)\n",
    "\n",
    "- Data Augmentation \n",
    "\n",
    "- convert to array \n",
    "\n",
    "- Normalization \n",
    "\n",
    "- Split Data (train, test)"
   ]
  },
  {
   "cell_type": "code",
   "execution_count": null,
   "id": "c0ee067d",
   "metadata": {},
   "outputs": [],
   "source": []
  }
 ],
 "metadata": {
  "kernelspec": {
   "display_name": "AIenv",
   "language": "python",
   "name": "python3"
  },
  "language_info": {
   "codemirror_mode": {
    "name": "ipython",
    "version": 3
   },
   "file_extension": ".py",
   "mimetype": "text/x-python",
   "name": "python",
   "nbconvert_exporter": "python",
   "pygments_lexer": "ipython3",
   "version": "3.10.16"
  }
 },
 "nbformat": 4,
 "nbformat_minor": 5
}
